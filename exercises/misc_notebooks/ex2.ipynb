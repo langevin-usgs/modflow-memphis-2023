{
 "cells": [
  {
   "cell_type": "markdown",
   "id": "d844cbe8-0317-4f74-8fcd-3e93f61c00cc",
   "metadata": {},
   "source": [
    "# Example 2 -- Regular Grid"
   ]
  },
  {
   "cell_type": "code",
   "execution_count": null,
   "id": "6957530d-ca08-4322-89ac-11eceabbcdc4",
   "metadata": {
    "tags": []
   },
   "outputs": [],
   "source": [
    "# import Python packages used for this example\n",
    "import matplotlib.pyplot as plt\n",
    "import numpy as np\n",
    "from shapely.geometry import Polygon, LineString\n",
    "import flopy"
   ]
  },
  {
   "cell_type": "code",
   "execution_count": null,
   "id": "d72ce4f6-c005-498e-8648-115ac93be687",
   "metadata": {
    "tags": []
   },
   "outputs": [],
   "source": [
    "# define the model domain using a shapely Polygon\n",
    "domain = Polygon([\n",
    "    [1831.38, 6335.54],\n",
    "    [4337.73, 6851.13],\n",
    "    [6428.74, 6707.91],\n",
    "    [8662.98, 6493.08],\n",
    "    [9350.43, 5891.56],\n",
    "    [9235.86, 4717.15],\n",
    "    [8963.74, 3685.97],\n",
    "    [8691.62, 2783.68],\n",
    "    [8047.13, 2038.94],\n",
    "    [7416.96, 578.09],\n",
    "    [6414.42, 105.46],\n",
    "    [5354.59, 205.72],\n",
    "    [4624.17, 363.26],\n",
    "    [3363.83, 563.77],\n",
    "    [1330.11, 1809.78],\n",
    "    [399.18, 2998.51],\n",
    "    [914.77, 5132.49],\n",
    "])\n",
    "domain"
   ]
  },
  {
   "cell_type": "code",
   "execution_count": null,
   "id": "b8609882-2524-4219-8521-f4eda47b4122",
   "metadata": {
    "tags": []
   },
   "outputs": [],
   "source": [
    "# define the model grid\n",
    "Lx = 10000\n",
    "Ly = 8000\n",
    "nlay = 1\n",
    "nrow = 32\n",
    "ncol = 40\n",
    "delr = Lx / ncol * np.ones(ncol, dtype=float)\n",
    "delc = Ly / nrow * np.ones(nrow, dtype=float)\n",
    "top = 50 * np.ones((nrow, ncol), dtype=float)\n",
    "botm = -100 * np.ones((nlay, nrow, ncol), dtype=float)\n",
    "\n",
    "# create a flopy grid object, which can be used for intersections\n",
    "sg = flopy.discretization.StructuredGrid(\n",
    "    nlay=nlay,\n",
    "    nrow=nrow,\n",
    "    ncol=ncol,\n",
    "    delr=delr,\n",
    "    delc=delc,\n",
    "    top=top,\n",
    "    botm=botm,\n",
    ")"
   ]
  },
  {
   "cell_type": "code",
   "execution_count": null,
   "id": "58985e20-8cf3-4717-b397-e4cb2894b2b3",
   "metadata": {
    "tags": []
   },
   "outputs": [],
   "source": [
    "# create an idomain indicator array\n",
    "idomain = np.zeros((nlay, nrow, ncol), dtype=int)\n",
    "gi = flopy.utils.GridIntersect(sg)\n",
    "\n",
    "# inside domain polygon (idomain = 1)\n",
    "ixp = gi.intersect(domain)\n",
    "for i, j in ixp[\"cellids\"]:\n",
    "    idomain[:, i, j] = 1\n",
    "\n",
    "# touching domain polygon (idomain = 2)\n",
    "ls = LineString([p for p in domain.exterior.coords])    \n",
    "ixl = gi.intersect(ls)\n",
    "for i, j in ixl[\"cellids\"]:\n",
    "    idomain[:, i, j] = 2\n",
    "    \n",
    "pmv = flopy.plot.PlotMapView(modelgrid=sg)\n",
    "pmv.plot_grid()\n",
    "cb = pmv.plot_array(idomain)\n",
    "plt.colorbar(cb, shrink=.5)"
   ]
  },
  {
   "cell_type": "code",
   "execution_count": null,
   "id": "5a9373b1-4e2c-4256-b203-331173fb1b4a",
   "metadata": {},
   "outputs": [],
   "source": [
    "# create the flopy representation of the MODFLOW simulation\n",
    "ws = './ex2'\n",
    "name = 'mymodel'\n",
    "sim = flopy.mf6.MFSimulation(sim_name=name, sim_ws=ws, exe_name='mf6')\n",
    "tdis = flopy.mf6.ModflowTdis(sim)\n",
    "ims = flopy.mf6.ModflowIms(sim, print_option=\"all\", inner_maximum=100)\n",
    "gwf = flopy.mf6.ModflowGwf(sim, modelname=name, save_flows=True)\n",
    "dis = flopy.mf6.ModflowGwfdis(\n",
    "    gwf, nlay=nlay, nrow=nrow, ncol=ncol, delr=delr, delc=delc, \n",
    "    top=top, botm=botm, idomain=idomain)\n",
    "ic = flopy.mf6.ModflowGwfic(gwf, strt=top)\n",
    "npf = flopy.mf6.ModflowGwfnpf(gwf, save_specific_discharge=True, icelltype=1)\n",
    "chdspd = [[(0, i, j), 1.] for i, j in ixl[\"cellids\"]]\n",
    "chd = flopy.mf6.ModflowGwfchd(gwf, stress_period_data=chdspd)\n",
    "rch = flopy.mf6.ModflowGwfrcha(gwf, recharge=0.001)\n",
    "oc = flopy.mf6.ModflowGwfoc(gwf,\n",
    "                            budget_filerecord=f\"{name}.bud\",\n",
    "                            head_filerecord=f\"{name}.hds\",\n",
    "                            printrecord=[('HEAD', 'ALL'), ('BUDGET', 'ALL')],\n",
    "                            saverecord=[('HEAD', 'ALL'), ('BUDGET', 'ALL')])"
   ]
  },
  {
   "cell_type": "code",
   "execution_count": null,
   "id": "15461ad8-f1f3-45ac-aea2-9e2a00105161",
   "metadata": {},
   "outputs": [],
   "source": [
    "# write the MODFLOW input files\n",
    "sim.write_simulation()"
   ]
  },
  {
   "cell_type": "code",
   "execution_count": null,
   "id": "bbc0bf97-b5c2-4acc-b6dc-084c46a9b53a",
   "metadata": {},
   "outputs": [],
   "source": [
    "# run the MODFLOW simulation\n",
    "sim.run_simulation()"
   ]
  },
  {
   "cell_type": "code",
   "execution_count": null,
   "id": "5859af58-a570-4f33-9069-9d445ef6dc85",
   "metadata": {},
   "outputs": [],
   "source": [
    "# load the output from the simulation\n",
    "head = gwf.output.head().get_data()\n",
    "bud = gwf.output.budget()\n",
    "spdis = bud.get_data(text='DATA-SPDIS')[0]\n",
    "qx, qy, qz = flopy.utils.postprocessing.get_specific_discharge(spdis, gwf)"
   ]
  },
  {
   "cell_type": "code",
   "execution_count": null,
   "id": "7a61108b-f9ab-4bad-b88e-f0bba8448cc6",
   "metadata": {},
   "outputs": [],
   "source": [
    "# create a plot of the model results\n",
    "fig, axes = plt.subplots(2, 1, figsize=(8, 11))\n",
    "ax = axes[0]\n",
    "ax.set_title(\"Map View\")\n",
    "ax.set_aspect(1)\n",
    "ax.set_xlabel(\"x\")\n",
    "ax.set_ylabel(\"y\")\n",
    "pmv = flopy.plot.PlotMapView(gwf, ax=ax)\n",
    "pmv.plot_bc(ftype=\"CHD\")\n",
    "pmv.plot_inactive(color_noflow=\"gray\")\n",
    "pmv.plot_grid(color=\"black\", linewidth=0.5)\n",
    "pmv.plot_vector(qx, qy, normalize=True, color=\"black\", istep=1, jstep=1)\n",
    "pmv.contour_array(head)\n",
    "\n",
    "ax = axes[1]\n",
    "ax.set_title(\"Cross Section\")\n",
    "ax.set_aspect(10.)\n",
    "ax.set_xlabel(\"x\")\n",
    "ax.set_ylabel(\"z\")\n",
    "pxs = flopy.plot.PlotCrossSection(gwf, ax=ax, line={\"row\": int(nrow/2)})\n",
    "pxs.plot_inactive(color_noflow=\"gray\")\n",
    "pxs.plot_bc(ftype=\"CHD\")\n",
    "pxs.plot_array(head, head=head)\n",
    "pxs.plot_grid(color=\"black\", linewidth=0.5)\n",
    "plt.tight_layout()"
   ]
  },
  {
   "cell_type": "code",
   "execution_count": null,
   "id": "de79dd7c-4b9e-480d-bad5-c6155eab33a2",
   "metadata": {},
   "outputs": [],
   "source": []
  }
 ],
 "metadata": {
  "kernelspec": {
   "display_name": "Python 3 (ipykernel)",
   "language": "python",
   "name": "python3"
  },
  "language_info": {
   "codemirror_mode": {
    "name": "ipython",
    "version": 3
   },
   "file_extension": ".py",
   "mimetype": "text/x-python",
   "name": "python",
   "nbconvert_exporter": "python",
   "pygments_lexer": "ipython3",
   "version": "3.10.11"
  }
 },
 "nbformat": 4,
 "nbformat_minor": 5
}
