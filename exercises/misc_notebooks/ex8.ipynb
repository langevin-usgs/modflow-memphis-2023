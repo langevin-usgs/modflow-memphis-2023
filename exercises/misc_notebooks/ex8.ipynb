{
 "cells": [
  {
   "cell_type": "markdown",
   "id": "364d2569-d4ea-4265-864d-c39f10e72aa2",
   "metadata": {},
   "source": [
    "# Example 8 -- MODFLOW Application Programming Interface (API)\n",
    "\n",
    "## Create a Simple Model"
   ]
  },
  {
   "cell_type": "code",
   "execution_count": null,
   "id": "7213785c-e8f2-4fc6-8ec6-15c5c7f6b71b",
   "metadata": {
    "tags": []
   },
   "outputs": [],
   "source": [
    "import pathlib as pl\n",
    "import matplotlib.pyplot as plt\n",
    "import numpy as np\n",
    "from shapely.geometry import Polygon, LineString\n",
    "import flopy\n",
    "\n",
    "ws = './ex8'\n",
    "name = 'mymodel'\n",
    "tempdir = pl.Path(ws, \"temp\")\n",
    "tempdir.mkdir(parents=True, exist_ok=True)\n",
    "\n",
    "domain = Polygon([\n",
    "    [1831.38, 6335.54],\n",
    "    [4337.73, 6851.13],\n",
    "    [6428.74, 6707.91],\n",
    "    [8662.98, 6493.08],\n",
    "    [9350.43, 5891.56],\n",
    "    [9235.86, 4717.15],\n",
    "    [8963.74, 3685.97],\n",
    "    [8691.62, 2783.68],\n",
    "    [8047.13, 2038.94],\n",
    "    [7416.96, 578.09],\n",
    "    [6414.42, 105.46],\n",
    "    [5354.59, 205.72],\n",
    "    [4624.17, 363.26],\n",
    "    [3363.83, 563.77],\n",
    "    [1330.11, 1809.78],\n",
    "    [399.18, 2998.51],\n",
    "    [914.77, 5132.49],\n",
    "])\n",
    "\n",
    "Lx = 10000\n",
    "Ly = 8000\n",
    "nlay = 1\n",
    "nrow = 32\n",
    "ncol = 40\n",
    "delr = Lx / ncol * np.ones(ncol, dtype=float)\n",
    "delc = Ly / nrow * np.ones(nrow, dtype=float)\n",
    "top = 50 * np.ones((nrow, ncol), dtype=float)\n",
    "botm = -100 * np.ones((nlay, nrow, ncol), dtype=float)\n",
    "sg = flopy.discretization.StructuredGrid(\n",
    "    nlay=nlay,\n",
    "    nrow=nrow,\n",
    "    ncol=ncol,\n",
    "    delr=delr,\n",
    "    delc=delc,\n",
    "    top=top,\n",
    "    botm=botm\n",
    ")\n",
    "idomain = np.zeros((nlay, nrow, ncol), dtype=int)\n",
    "gi = flopy.utils.GridIntersect(sg)\n",
    "\n",
    "# inside domain polygon\n",
    "ixp = gi.intersect(domain)\n",
    "for i, j in ixp[\"cellids\"]:\n",
    "    idomain[:, i, j] = 1\n",
    "\n",
    "# identify cells that touch domain polygon\n",
    "ls = LineString([p for p in domain.exterior.coords])    \n",
    "ixl = gi.intersect(ls)\n",
    "for i, j in ixl[\"cellids\"]:\n",
    "    idomain[:, i, j] = 2\n",
    "\n",
    "sim = flopy.mf6.MFSimulation(sim_name=name, sim_ws=ws, exe_name='mf6')\n",
    "tdis = flopy.mf6.ModflowTdis(sim)\n",
    "ims = flopy.mf6.ModflowIms(sim, print_option=\"all\", inner_maximum=100)\n",
    "gwf = flopy.mf6.ModflowGwf(sim, modelname=name, save_flows=True)\n",
    "dis = flopy.mf6.ModflowGwfdis(\n",
    "    gwf, nlay=nlay, nrow=nrow, ncol=ncol, delr=delr, delc=delc, \n",
    "    top=top, botm=botm, idomain=idomain)\n",
    "ic = flopy.mf6.ModflowGwfic(gwf, strt=top)\n",
    "npf = flopy.mf6.ModflowGwfnpf(gwf, save_specific_discharge=True, icelltype=1)\n",
    "chdspd = [[(0, i, j), 1.] for i, j in ixl[\"cellids\"]]\n",
    "chd = flopy.mf6.ModflowGwfchd(gwf, stress_period_data=chdspd)\n",
    "rch = flopy.mf6.ModflowGwfrcha(gwf, recharge=0.001)\n",
    "oc = flopy.mf6.ModflowGwfoc(gwf,\n",
    "                            budget_filerecord=f\"{name}.bud\",\n",
    "                            head_filerecord=f\"{name}.hds\",\n",
    "                            printrecord=[('HEAD', 'ALL'), ('BUDGET', 'ALL')],\n",
    "                            saverecord=[('HEAD', 'ALL'), ('BUDGET', 'ALL')])\n",
    "sim.write_simulation()"
   ]
  },
  {
   "cell_type": "markdown",
   "id": "99c3ae7e-c89f-4329-a9df-63eecc602436",
   "metadata": {},
   "source": [
    "## Run Model from Python Using the API\n",
    "\n",
    "### Control and Run by Time Step"
   ]
  },
  {
   "cell_type": "code",
   "execution_count": null,
   "id": "fe128754-2b93-43bc-8db2-5b2e90bc000c",
   "metadata": {
    "tags": []
   },
   "outputs": [],
   "source": [
    "import modflowapi\n",
    "libmf6 = \"/Users/langevin/langevin/dev/modflow6-fork.git/bin/libmf6.dylib\"\n",
    "\n",
    "mf6 =  modflowapi.ModflowApi(libmf6, working_directory=ws)\n",
    "print(\"Initializing mf6...\")\n",
    "mf6.initialize()\n",
    "current_time = 0.\n",
    "end_time = mf6.get_end_time()\n",
    "\n",
    "while current_time < end_time:\n",
    "    print(\"  Updating mf6...\")\n",
    "    mf6.update()\n",
    "    current_time = mf6.get_current_time()\n",
    "\n",
    "print (\"Finalizing mf6...\")\n",
    "mf6.finalize()"
   ]
  },
  {
   "cell_type": "markdown",
   "id": "13df9412-23b8-4d36-a6e6-6bdce97e172e",
   "metadata": {},
   "source": [
    "### Control and Run by Iteration"
   ]
  },
  {
   "cell_type": "code",
   "execution_count": null,
   "id": "f80bba6a-56be-440e-8d52-cf95be811eef",
   "metadata": {
    "tags": []
   },
   "outputs": [],
   "source": [
    "import modflowapi\n",
    "libmf6 = \"/Users/langevin/langevin/dev/modflow6-fork.git/bin/libmf6.dylib\"\n",
    "\n",
    "mf6 =  modflowapi.ModflowApi(libmf6, working_directory=ws)\n",
    "print(\"Initializing mf6...\")\n",
    "mf6.initialize()\n",
    "current_time = 0.\n",
    "end_time = mf6.get_end_time()\n",
    "\n",
    "while current_time < end_time:\n",
    "    \n",
    "    print(\"  Get and prepare time step...\")\n",
    "    dt = mf6.get_time_step()\n",
    "    mf6.prepare_time_step(dt)\n",
    "    \n",
    "    kiter = 0\n",
    "    print(\"  Prepare solve...\")\n",
    "    mf6.prepare_solve(1)\n",
    "    while kiter < 30:\n",
    "        print(\"    Solve...\")\n",
    "        has_converged = mf6.solve(1)\n",
    "        if has_converged:\n",
    "            break\n",
    "    print(\"  Finalize solve...\")\n",
    "    mf6.finalize_solve(1)\n",
    "    \n",
    "    print(\"  Finalize time step...\")\n",
    "    mf6.finalize_time_step()\n",
    "    current_time = mf6.get_current_time()\n",
    "\n",
    "print (\"Finalizing mf6...\")\n",
    "mf6.finalize()"
   ]
  },
  {
   "cell_type": "markdown",
   "id": "2582bb85-d033-4082-8916-729774826175",
   "metadata": {},
   "source": [
    "### Print Head Min and Max Between Iteration"
   ]
  },
  {
   "cell_type": "code",
   "execution_count": null,
   "id": "edcbe52c-8e19-4149-9f55-34b9adb444bb",
   "metadata": {
    "tags": []
   },
   "outputs": [],
   "source": [
    "import modflowapi\n",
    "libmf6 = \"/Users/langevin/langevin/dev/modflow6-fork.git/bin/libmf6.dylib\"\n",
    "\n",
    "mf6 =  modflowapi.ModflowApi(libmf6, working_directory=ws)\n",
    "print(\"Initializing mf6...\")\n",
    "mf6.initialize()\n",
    "\n",
    "# get a pointer to the head variable\n",
    "head = mf6.get_value_ptr(\"SLN_1/X\")\n",
    "\n",
    "current_time = 0.\n",
    "end_time = mf6.get_end_time()\n",
    "\n",
    "while current_time < end_time:\n",
    "    \n",
    "    print(\"  Get and prepare time step...\")\n",
    "    dt = mf6.get_time_step()\n",
    "    mf6.prepare_time_step(dt)\n",
    "    \n",
    "    kiter = 0\n",
    "    print(\"  Prepare solve...\")\n",
    "    mf6.prepare_solve(1)\n",
    "    while kiter < 30:\n",
    "        print(\"    Solve...\")\n",
    "        has_converged = mf6.solve(1)\n",
    "        print (f\"    Head min ({head.min()}) max ({head.max()})\")\n",
    "        if has_converged:\n",
    "            break\n",
    "    print(\"  Finalize solve...\")\n",
    "    mf6.finalize_solve(1)\n",
    "    \n",
    "    print(\"  Finalize time step...\")\n",
    "    mf6.finalize_time_step()\n",
    "    current_time = mf6.get_current_time()\n",
    "\n",
    "print (\"Finalizing mf6...\")\n",
    "mf6.finalize()"
   ]
  },
  {
   "cell_type": "code",
   "execution_count": null,
   "id": "d4f13555-8c01-41c1-9d18-dc5e6f51d498",
   "metadata": {},
   "outputs": [],
   "source": []
  }
 ],
 "metadata": {
  "kernelspec": {
   "display_name": "Python 3 (ipykernel)",
   "language": "python",
   "name": "python3"
  },
  "language_info": {
   "codemirror_mode": {
    "name": "ipython",
    "version": 3
   },
   "file_extension": ".py",
   "mimetype": "text/x-python",
   "name": "python",
   "nbconvert_exporter": "python",
   "pygments_lexer": "ipython3",
   "version": "3.10.11"
  }
 },
 "nbformat": 4,
 "nbformat_minor": 5
}
