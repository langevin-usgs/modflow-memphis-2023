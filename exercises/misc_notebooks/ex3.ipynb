{
 "cells": [
  {
   "cell_type": "markdown",
   "id": "f8b3f299-a029-4cc0-892d-c1286a957a4e",
   "metadata": {},
   "source": [
    "# Example 3 -- Quadtree Grid"
   ]
  },
  {
   "cell_type": "code",
   "execution_count": null,
   "id": "19492beb-e1c7-4b24-bcdb-73581bc76730",
   "metadata": {
    "tags": []
   },
   "outputs": [],
   "source": [
    "# import Python packages used for this example\n",
    "import pathlib as pl\n",
    "import matplotlib.pyplot as plt\n",
    "import numpy as np\n",
    "from shapely.geometry import Polygon, LineString\n",
    "import flopy\n",
    "from flopy.utils.gridgen import Gridgen"
   ]
  },
  {
   "cell_type": "code",
   "execution_count": null,
   "id": "1137e42b-068b-47dd-85ed-c855163b2f9c",
   "metadata": {
    "tags": []
   },
   "outputs": [],
   "source": [
    "# set up paths\n",
    "ws = './ex3'\n",
    "name = 'mymodel'\n",
    "gridgen_ws = pl.Path(ws, \"gridgen\")\n",
    "gridgen_ws.mkdir(parents=True, exist_ok=True)"
   ]
  },
  {
   "cell_type": "code",
   "execution_count": null,
   "id": "2ecd8b40-7b82-4dd1-a343-a9623a340af5",
   "metadata": {
    "tags": []
   },
   "outputs": [],
   "source": [
    "# define the model domain\n",
    "domain = [[\n",
    "    [1831.38, 6335.54],\n",
    "    [4337.73, 6851.13],\n",
    "    [6428.74, 6707.91],\n",
    "    [8662.98, 6493.08],\n",
    "    [9350.43, 5891.56],\n",
    "    [9235.86, 4717.15],\n",
    "    [8963.74, 3685.97],\n",
    "    [8691.62, 2783.68],\n",
    "    [8047.13, 2038.94],\n",
    "    [7416.96, 578.09],\n",
    "    [6414.42, 105.46],\n",
    "    [5354.59, 205.72],\n",
    "    [4624.17, 363.26],\n",
    "    [3363.83, 563.77],\n",
    "    [1330.11, 1809.78],\n",
    "    [399.18, 2998.51],\n",
    "    [914.77, 5132.49],\n",
    "    [1831.38, 6335.54],\n",
    "]]"
   ]
  },
  {
   "cell_type": "code",
   "execution_count": null,
   "id": "8cc0a569-c776-45ed-b9a9-7534ec8e026f",
   "metadata": {
    "tags": []
   },
   "outputs": [],
   "source": [
    "# define the model grid\n",
    "Lx = 10000\n",
    "Ly = 8000\n",
    "nlay = 1\n",
    "nrow = 32\n",
    "ncol = 40\n",
    "delr = Lx / ncol * np.ones(ncol, dtype=float)\n",
    "delc = Ly / nrow * np.ones(nrow, dtype=float)\n",
    "top = 50 * np.ones((nrow, ncol), dtype=float)\n",
    "botm = -100 * np.ones((nlay, nrow, ncol), dtype=float)\n",
    "\n",
    "# create a flopy grid object, which can be used for gridgen\n",
    "sg = flopy.discretization.StructuredGrid(\n",
    "    nlay=nlay,\n",
    "    nrow=nrow,\n",
    "    ncol=ncol,\n",
    "    delr=delr,\n",
    "    delc=delc,\n",
    "    top=top,\n",
    "    botm=botm\n",
    ")"
   ]
  },
  {
   "cell_type": "code",
   "execution_count": null,
   "id": "1552635e-60c8-465f-b514-7bf0ffd84ef2",
   "metadata": {
    "tags": []
   },
   "outputs": [],
   "source": [
    "# Use Gridgen to create the unstructured grid\n",
    "g = Gridgen(sg, model_ws=gridgen_ws, surface_interpolation=\"interpolate\")\n",
    "g.add_active_domain([domain], range(nlay))\n",
    "g.add_refinement_features(domain, \"line\", level=1, layers=range(nlay))\n",
    "poly = [[[(6000, 4000), (7000, 4000), (7000, 5000), (6000, 5000), (6000, 4000)]]]\n",
    "g.add_refinement_features(poly, \"polygon\", level=2, layers=range(nlay))\n",
    "g.build()\n",
    "g.plot()"
   ]
  },
  {
   "cell_type": "code",
   "execution_count": null,
   "id": "e03b2b97-f88a-4beb-b864-b131de8d3515",
   "metadata": {},
   "outputs": [],
   "source": [
    "# create the flopy representation of the MODFLOW simulation\n",
    "sim = flopy.mf6.MFSimulation(sim_name=name, sim_ws=ws, exe_name='mf6')\n",
    "tdis = flopy.mf6.ModflowTdis(sim)\n",
    "ims = flopy.mf6.ModflowIms(sim, print_option=\"all\", inner_maximum=100)\n",
    "gwf = flopy.mf6.ModflowGwf(sim, modelname=name, save_flows=True)\n",
    "gridprops_disv = g.get_gridprops_disv()\n",
    "disv = flopy.mf6.ModflowGwfdisv(\n",
    "    gwf, **gridprops_disv)\n",
    "ic = flopy.mf6.ModflowGwfic(gwf, strt=gridprops_disv[\"top\"])\n",
    "npf = flopy.mf6.ModflowGwfnpf(gwf, save_specific_discharge=True, icelltype=1)\n",
    "\n",
    "gi = flopy.utils.GridIntersect(gwf.modelgrid)\n",
    "ls = LineString(domain[0])\n",
    "chdspd = [[(0, j), 1.] for j in np.array(gi.intersects(ls)[\"cellids\"], dtype=int)]\n",
    "chd = flopy.mf6.ModflowGwfchd(gwf, stress_period_data=chdspd)\n",
    "rch = flopy.mf6.ModflowGwfrcha(gwf, recharge=0.001)\n",
    "oc = flopy.mf6.ModflowGwfoc(gwf,\n",
    "                            budget_filerecord=f\"{name}.bud\",\n",
    "                            head_filerecord=f\"{name}.hds\",\n",
    "                            printrecord=[('HEAD', 'ALL'), ('BUDGET', 'ALL')],\n",
    "                            saverecord=[('HEAD', 'ALL'), ('BUDGET', 'ALL')])"
   ]
  },
  {
   "cell_type": "code",
   "execution_count": null,
   "id": "cb5cb90e-e01c-4a44-9b60-bcb65d0a2696",
   "metadata": {},
   "outputs": [],
   "source": [
    "# write the MODFLOW input files\n",
    "sim.write_simulation()"
   ]
  },
  {
   "cell_type": "code",
   "execution_count": null,
   "id": "7fa0d737-49bf-4f61-b358-af6f0922ff55",
   "metadata": {},
   "outputs": [],
   "source": [
    "# run the MODFLOW simulation\n",
    "sim.run_simulation()"
   ]
  },
  {
   "cell_type": "code",
   "execution_count": null,
   "id": "2ac0b788-87e5-4a52-a666-a69ce5e55d3a",
   "metadata": {},
   "outputs": [],
   "source": [
    "# load the output from the simulation\n",
    "head = gwf.output.head().get_data()\n",
    "bud = gwf.output.budget()\n",
    "spdis = bud.get_data(text='DATA-SPDIS')[0]\n",
    "qx, qy, qz = flopy.utils.postprocessing.get_specific_discharge(spdis, gwf)"
   ]
  },
  {
   "cell_type": "code",
   "execution_count": null,
   "id": "07a1ac0f-babc-4bfd-a5a7-0d76166c6f4e",
   "metadata": {
    "tags": []
   },
   "outputs": [],
   "source": [
    "# create a plot of the model results\n",
    "fig, axes = plt.subplots(2, 1, figsize=(8, 11))\n",
    "ax = axes[0]\n",
    "ax.set_title(\"Map View\")\n",
    "ax.set_aspect(1)\n",
    "ax.set_xlabel(\"x\")\n",
    "ax.set_ylabel(\"y\")\n",
    "pmv = flopy.plot.PlotMapView(gwf, ax=ax)\n",
    "pmv.plot_bc(ftype=\"CHD\")\n",
    "pmv.plot_grid(color=\"black\", linewidth=0.5)\n",
    "#pmv.plot_array(head)\n",
    "pmv.plot_vector(qx, qy, normalize=True, color=\"black\", istep=1, jstep=1)\n",
    "pmv.contour_array(head)\n",
    "\n",
    "ax = axes[1]\n",
    "ax.set_title(\"Cross Section\")\n",
    "ax.set_aspect(10.)\n",
    "ax.set_xlabel(\"x\")\n",
    "ax.set_ylabel(\"z\")\n",
    "pxs = flopy.plot.PlotCrossSection(gwf, ax=ax, line={\"line\": [(0, 4500), (9500, 4500)]})\n",
    "pxs.plot_bc(ftype=\"CHD\")\n",
    "pxs.plot_array(head, head=head)\n",
    "pxs.plot_grid(color=\"black\", linewidth=0.5)\n",
    "plt.tight_layout()"
   ]
  },
  {
   "cell_type": "code",
   "execution_count": null,
   "id": "ee424a41-cb96-450f-b96f-325d8af5c911",
   "metadata": {},
   "outputs": [],
   "source": []
  }
 ],
 "metadata": {
  "kernelspec": {
   "display_name": "Python 3 (ipykernel)",
   "language": "python",
   "name": "python3"
  },
  "language_info": {
   "codemirror_mode": {
    "name": "ipython",
    "version": 3
   },
   "file_extension": ".py",
   "mimetype": "text/x-python",
   "name": "python",
   "nbconvert_exporter": "python",
   "pygments_lexer": "ipython3",
   "version": "3.10.11"
  }
 },
 "nbformat": 4,
 "nbformat_minor": 5
}
