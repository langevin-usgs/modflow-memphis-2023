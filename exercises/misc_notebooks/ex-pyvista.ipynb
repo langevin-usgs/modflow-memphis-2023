{
 "cells": [
  {
   "cell_type": "code",
   "execution_count": null,
   "id": "6a9fe643-12e5-49e3-b260-2158bc49c60b",
   "metadata": {
    "tags": []
   },
   "outputs": [],
   "source": [
    "import pathlib as pl\n",
    "import matplotlib.pyplot as plt\n",
    "import numpy as np\n",
    "from shapely.geometry import Polygon, LineString\n",
    "import pyvista as pv\n",
    "import flopy\n",
    "from flopy.utils.gridgen import Gridgen\n",
    "\n",
    "ws = './ex-pyvista'\n",
    "name = 'mymodel'\n",
    "gridgen_ws = pl.Path(ws, \"gridgen\")\n",
    "gridgen_ws.mkdir(parents=True, exist_ok=True)"
   ]
  },
  {
   "cell_type": "code",
   "execution_count": null,
   "id": "630911db-dd3c-46ea-b0f9-3f485aca2520",
   "metadata": {
    "tags": []
   },
   "outputs": [],
   "source": [
    "Lx = 100.0\n",
    "Ly = 100.0\n",
    "nlay = 3\n",
    "nrow = 5\n",
    "ncol = 5\n",
    "dx = Lx / ncol\n",
    "dy = Ly / nrow\n",
    "delr = np.ones(ncol, dtype=float) * Lx / ncol\n",
    "delc = np.ones(nrow, dtype=float) * Ly / nrow\n",
    "xx, yy = np.meshgrid(\n",
    "    np.arange(dx / 2, Lx + dx / 2, dx), \n",
    "    np.arange(dy / 2, Ly + dy / 2, dy),\n",
    ")\n",
    "r = np.sqrt((xx - 50) ** 2 + (yy - 50) ** 2)\n",
    "top = (r.max() - r) / 5 + 5\n",
    "botm = np.zeros((nlay, nrow, ncol), dtype=float)\n",
    "botm[0, :, :] = -5.0\n",
    "botm[1, :, :] = -7.0\n",
    "botm[2, :, :] = -10.0 - xx / 5.\n",
    "sg = flopy.discretization.StructuredGrid(\n",
    "    delr=delr, \n",
    "    delc=delc,\n",
    "    top=top,\n",
    "    botm=botm,\n",
    ")"
   ]
  },
  {
   "cell_type": "code",
   "execution_count": null,
   "id": "ca345ff8-b853-4d1c-aa79-0038aa9d8d92",
   "metadata": {
    "tags": []
   },
   "outputs": [],
   "source": [
    "g = Gridgen(sg, model_ws=gridgen_ws, surface_interpolation=\"interpolate\")\n",
    "g.add_refinement_features([(50., 50.), (50., 0.)], \"point\", level=2, layers=[0])\n",
    "g.build()\n",
    "#g.plot(layer=1)\n",
    "usg_props = g.get_gridprops_unstructuredgrid()\n",
    "usg = flopy.discretization.UnstructuredGrid(**usg_props)"
   ]
  },
  {
   "cell_type": "code",
   "execution_count": null,
   "id": "e5e48172-84ec-4a4b-bd14-abfbdac45452",
   "metadata": {
    "tags": []
   },
   "outputs": [],
   "source": [
    "vtk_export = flopy.export.vtk.Vtk(modelgrid=usg)\n",
    "vtk_export.add_array(np.arange(usg.nnodes), name=\"node\")\n",
    "pvgrid = vtk_export.to_pyvista()\n",
    "pvgrid.cell_data['node-number'] = range(pvgrid.n_cells)\n",
    "pvgrid.plot(show_edges=True)"
   ]
  },
  {
   "cell_type": "code",
   "execution_count": null,
   "id": "4892d8cd-a20f-4eff-a777-f490f8142219",
   "metadata": {},
   "outputs": [],
   "source": []
  }
 ],
 "metadata": {
  "kernelspec": {
   "display_name": "Python 3 (ipykernel)",
   "language": "python",
   "name": "python3"
  },
  "language_info": {
   "codemirror_mode": {
    "name": "ipython",
    "version": 3
   },
   "file_extension": ".py",
   "mimetype": "text/x-python",
   "name": "python",
   "nbconvert_exporter": "python",
   "pygments_lexer": "ipython3",
   "version": "3.10.11"
  }
 },
 "nbformat": 4,
 "nbformat_minor": 5
}
