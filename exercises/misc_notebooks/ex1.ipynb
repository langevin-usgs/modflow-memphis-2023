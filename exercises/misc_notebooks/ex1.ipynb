{
 "cells": [
  {
   "cell_type": "markdown",
   "metadata": {
    "tags": []
   },
   "source": [
    "# Example 1 -- Toth Flow System"
   ]
  },
  {
   "cell_type": "code",
   "execution_count": null,
   "metadata": {
    "tags": []
   },
   "outputs": [],
   "source": [
    "# import Python packages used for this example\n",
    "import matplotlib.pyplot as plt\n",
    "import numpy as np\n",
    "import flopy"
   ]
  },
  {
   "cell_type": "code",
   "execution_count": null,
   "metadata": {
    "tags": []
   },
   "outputs": [],
   "source": [
    "# define the size of the domain\n",
    "Lx = 20000\n",
    "Lz = 10000\n",
    "\n",
    "# define the size and dimension of the model grid\n",
    "nlay = 400\n",
    "nrow = 1\n",
    "ncol = 200\n",
    "top = Lz\n",
    "bot = 0\n",
    "dx = Lx / ncol\n",
    "dz = (top - bot) / nlay\n",
    "botm = [top - (b + 1) * dz for b in range(nlay)]\n",
    "\n",
    "# define the Toth parameters\n",
    "a = 200.\n",
    "alpha = np.arctan2(1000, Lx)\n",
    "period = 5000.\n",
    "b = 2 * np.pi / period\n",
    "\n",
    "# define the water table\n",
    "def get_z(z0, a, b, alpha, x):\n",
    "    return z0 + x * np.tan(alpha) + a * np.sin(b * x / np.cos(alpha)) / np.cos(alpha)\n",
    "x = np.arange(dx / 2, Lx + dx / 2, dx)\n",
    "z = get_z(Lz, a, b, alpha, x)\n",
    "\n",
    "# create a list of constant head cells across the top of the model\n",
    "chdspd = [[0, 0, j, z[j]] for j in range(ncol)]"
   ]
  },
  {
   "cell_type": "code",
   "execution_count": null,
   "metadata": {
    "tags": []
   },
   "outputs": [],
   "source": [
    "# create the flopy representation of the MODFLOW simulation\n",
    "ws = './ex1'\n",
    "name = 'mymodel'\n",
    "sim = flopy.mf6.MFSimulation(sim_name=name, sim_ws=ws, exe_name='mf6')\n",
    "tdis = flopy.mf6.ModflowTdis(sim)\n",
    "ims = flopy.mf6.ModflowIms(sim, print_option=\"all\", inner_maximum=100)\n",
    "gwf = flopy.mf6.ModflowGwf(sim, modelname=name, save_flows=True)\n",
    "dis = flopy.mf6.ModflowGwfdis(\n",
    "    gwf, nlay=nlay, nrow=nrow, ncol=ncol, top=top, botm=botm, delr=dx)\n",
    "ic = flopy.mf6.ModflowGwfic(gwf, strt=top)\n",
    "npf = flopy.mf6.ModflowGwfnpf(gwf, save_specific_discharge=True)\n",
    "chd = flopy.mf6.ModflowGwfchd(gwf, stress_period_data=chdspd)\n",
    "oc = flopy.mf6.ModflowGwfoc(gwf,\n",
    "                            budget_filerecord=f\"{name}.bud\",\n",
    "                            head_filerecord=f\"{name}.hds\",\n",
    "                            printrecord=[('HEAD', 'ALL'), ('BUDGET', 'ALL')],\n",
    "                            saverecord=[('HEAD', 'ALL'), ('BUDGET', 'ALL')])"
   ]
  },
  {
   "cell_type": "code",
   "execution_count": null,
   "metadata": {
    "tags": []
   },
   "outputs": [],
   "source": [
    "# write the MODFLOW input files\n",
    "sim.write_simulation()"
   ]
  },
  {
   "cell_type": "code",
   "execution_count": null,
   "metadata": {
    "tags": []
   },
   "outputs": [],
   "source": [
    "# run the MODFLOW simulation\n",
    "sim.run_simulation()"
   ]
  },
  {
   "cell_type": "code",
   "execution_count": null,
   "metadata": {
    "tags": []
   },
   "outputs": [],
   "source": [
    "# load the output from the simulation\n",
    "head = gwf.output.head().get_data()\n",
    "bud = gwf.output.budget()\n",
    "spdis = bud.get_data(text='DATA-SPDIS')[0]\n",
    "qx, qy, qz = flopy.utils.postprocessing.get_specific_discharge(spdis, gwf)"
   ]
  },
  {
   "cell_type": "code",
   "execution_count": null,
   "metadata": {
    "tags": []
   },
   "outputs": [],
   "source": [
    "# calculate the stream function by summing the flows for each column\n",
    "u = qx.reshape((nlay, ncol))\n",
    "phi = u[-1::-1].cumsum(axis=0)\n",
    "phi = np.flipud(phi)"
   ]
  },
  {
   "cell_type": "code",
   "execution_count": null,
   "metadata": {
    "tags": []
   },
   "outputs": [],
   "source": [
    "# create a plot of the model results\n",
    "fig, ax = plt.subplots(figsize=(10, 10))\n",
    "ax.set_aspect(1)\n",
    "pxs = flopy.plot.PlotCrossSection(gwf, ax=ax, line={\"row\":0})\n",
    "#pxs.plot_grid()\n",
    "pxs.contour_array(\n",
    "    head, \n",
    "    levels=np.arange(Lz, z.max(), 25), \n",
    "    linewidths=1., \n",
    "    colors=\"k\",\n",
    "    linestyles=\"dashed\",\n",
    ")\n",
    "pxs.contour_array(phi, levels=np.linspace(phi.min(), phi.max(), 10))\n",
    "#pxs.plot_vector(qx, qy, qz, normalize=True, color=\"black\")\n",
    "ax.set_xlim(0, 20000)\n",
    "ax.set_ylim(0, 11000)\n",
    "ax.plot(x, z)"
   ]
  },
  {
   "cell_type": "code",
   "execution_count": null,
   "metadata": {},
   "outputs": [],
   "source": []
  }
 ],
 "metadata": {
  "kernelspec": {
   "display_name": "Python 3 (ipykernel)",
   "language": "python",
   "name": "python3"
  },
  "language_info": {
   "codemirror_mode": {
    "name": "ipython",
    "version": 3
   },
   "file_extension": ".py",
   "mimetype": "text/x-python",
   "name": "python",
   "nbconvert_exporter": "python",
   "pygments_lexer": "ipython3",
   "version": "3.10.11"
  }
 },
 "nbformat": 4,
 "nbformat_minor": 4
}
