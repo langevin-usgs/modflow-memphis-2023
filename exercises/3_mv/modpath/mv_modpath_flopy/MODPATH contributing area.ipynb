{
 "cells": [
  {
   "cell_type": "code",
   "execution_count": null,
   "id": "f5c04a45",
   "metadata": {},
   "outputs": [],
   "source": [
    "import flopy\n",
    "from flopy.plot import styles\n",
    "import numpy as np\n",
    "import matplotlib.pyplot as plt\n",
    "import os\n",
    "\n",
    "# set executable paths\n",
    "# mf6_exe = os.path.join(\"..\", \"bin\", \"mf6.exe\")\n",
    "# mp7_exe = os.path.join(\"..\", \"bin\", \"mp7.exe\")\n",
    "\n",
    "# case A or case B\n",
    "case = \"a\""
   ]
  },
  {
   "cell_type": "markdown",
   "id": "90b756c0",
   "metadata": {},
   "source": [
    "#### Set your simulation workspace for your modflow model"
   ]
  },
  {
   "cell_type": "code",
   "execution_count": null,
   "id": "14924464",
   "metadata": {},
   "outputs": [],
   "source": [
    "sim_ws = os.path.join(\"..\", f\"mv_{case.lower()}\")"
   ]
  },
  {
   "cell_type": "markdown",
   "id": "a57dd62c",
   "metadata": {},
   "source": [
    "## Depedening on how you represented McDonald Lake set `lak_nam` to the three letter ackronymn that defines your package.\n",
    "\n",
    "   - General head  = \"GHB\"\n",
    "   - Constant head = \"CHD\"\n",
    "   - High K:\n",
    "     - Recharge = \"RCH\"\n",
    "     - Recharge using READASARRAY = \"RCHA\""
   ]
  },
  {
   "cell_type": "code",
   "execution_count": null,
   "id": "0fa4b3cd",
   "metadata": {},
   "outputs": [],
   "source": [
    "lak_nam = \"GHB\"\n",
    "lak_nam = lak_nam.upper()"
   ]
  },
  {
   "cell_type": "markdown",
   "id": "712d1ded",
   "metadata": {},
   "source": [
    "Load the McDonald valley \"development scenario case\" from stage 4"
   ]
  },
  {
   "cell_type": "code",
   "execution_count": null,
   "id": "73301fc8",
   "metadata": {},
   "outputs": [],
   "source": [
    "sim = flopy.mf6.MFSimulation.load(sim_ws=sim_ws, exe_name=mf6_exe)\n",
    "\n",
    "ml = sim.get_model()"
   ]
  },
  {
   "cell_type": "markdown",
   "id": "f1d4e9e1",
   "metadata": {},
   "source": [
    "### Visualize the boundary conditions\n",
    "\n",
    "Use flopy's plotting libraries to create a simple plot"
   ]
  },
  {
   "cell_type": "code",
   "execution_count": null,
   "id": "60b131c4",
   "metadata": {},
   "outputs": [],
   "source": [
    "with styles.USGSMap():\n",
    "    fig, ax = plt.subplots(figsize=(6, 8))\n",
    "    pmv = flopy.plot.PlotMapView(model=ml)\n",
    "    pmv.plot_grid()\n",
    "    if lak_nam not in (\"RCHA\"):\n",
    "        pmv.plot_bc(lak_nam, plotAll=True)\n",
    "    else:\n",
    "        array = ml.npf.k.array[0]\n",
    "        array[array != np.max(array)] = np.nan\n",
    "        array[~np.isnan(array)] = 1\n",
    "        pmv.plot_array(array, cmap=\"seismic\")\n",
    "    pmv.plot_bc(\"RIV\")\n",
    "    pmv.plot_bc(\"WEL\", plotAll=True)\n",
    "    plt.title(\"McDonald Valley boundary conditions\");"
   ]
  },
  {
   "cell_type": "markdown",
   "id": "dc9631d1",
   "metadata": {},
   "source": [
    "Run the Modflow6 simulation"
   ]
  },
  {
   "cell_type": "code",
   "execution_count": null,
   "id": "4b3d6808",
   "metadata": {},
   "outputs": [],
   "source": [
    "sim.run_simulation();"
   ]
  },
  {
   "cell_type": "markdown",
   "id": "59312f62",
   "metadata": {},
   "source": [
    "## Build the modpath input files\n",
    "\n",
    "Start by building a `Modpath7` object"
   ]
  },
  {
   "cell_type": "code",
   "execution_count": null,
   "id": "11c5c4a6",
   "metadata": {},
   "outputs": [],
   "source": [
    "mp = flopy.modpath.Modpath7(\n",
    "    modelname=f\"mv_mp{case}\", flowmodel=ml, # exe_name=mp7_exe\n",
    ")"
   ]
  },
  {
   "cell_type": "markdown",
   "id": "0ea0b167",
   "metadata": {},
   "source": [
    "### Create particle groups, and assign them a starting location\n",
    "\n",
    "2 particle groups corresponding to Lake Harbaugh and Straight River"
   ]
  },
  {
   "cell_type": "code",
   "execution_count": null,
   "id": "6811f5b5",
   "metadata": {},
   "outputs": [],
   "source": [
    "def create_particle_locations(cellids, ppcell, localz=0.5):\n",
    "    \"\"\"\n",
    "    Creates particle location information for the ParticleData class\n",
    "    \"\"\"\n",
    "    # create a list of particle locations\n",
    "    ploc = []\n",
    "    for loc in cellids:\n",
    "        t = [loc,] * ppcell\n",
    "        ploc.extend(t)\n",
    "    \n",
    "    # now define starting locations in the cell\n",
    "    npart = len(ploc)\n",
    "    loc_x = np.random.random(npart)\n",
    "    loc_y = np.random.random(npart)\n",
    "    loc_z = np.ones((npart,)) * localz\n",
    "    \n",
    "    return ploc, loc_x, loc_y, loc_z"
   ]
  },
  {
   "cell_type": "code",
   "execution_count": null,
   "id": "d6a79c4f",
   "metadata": {},
   "outputs": [],
   "source": [
    "ppcell = 5\n",
    "\n",
    "# particle locations Lake McDonald\n",
    "if lak_nam.upper() != \"RCHA\":\n",
    "    lak_cellids = ml.get_package(lak_nam).stress_period_data.data[0][\"cellid\"]\n",
    "    lak_cellids = list(lak_cellids)\n",
    "else:\n",
    "    array = ml.npf.k.array\n",
    "    l, r, c = np.where(array == np.max(array))\n",
    "    lak_cellids = list(zip(l, r, c))\n",
    "\n",
    "# particle locations for the whole model\n",
    "cellids = []\n",
    "for row in range(ml.modelgrid.nrow):\n",
    "    for col in range(ml.modelgrid.ncol):\n",
    "        cid = (0, row, col)\n",
    "        cid0 = (1, row, col)\n",
    "        if cid not in lak_cellids and cid0 not in lak_cellids:\n",
    "            cellids.append(cid)\n",
    "\n",
    "ploc, locx, locy, locz = create_particle_locations(cellids, ppcell, 0.98)\n",
    "\n",
    "pdata = flopy.modpath.ParticleData(\n",
    "    ploc, structured=True, localx=locx, localy=locy, localz=locz, drape=1\n",
    ")\n",
    "\n",
    "pg0 = flopy.modpath.ParticleGroup(\n",
    "    particlegroupname=\"Contr\", particledata=pdata, filename=\"mv_lmcd.sloc\"\n",
    ")"
   ]
  },
  {
   "cell_type": "markdown",
   "id": "fb5cab1f",
   "metadata": {},
   "source": [
    "### Now to create the MODPATH BAS object\n",
    "\n",
    "Bas file contains information about:\n",
    "   - model layer types\n",
    "   - default ifaces\n",
    "   - the porosity in the model "
   ]
  },
  {
   "cell_type": "code",
   "execution_count": null,
   "id": "11e15f48",
   "metadata": {},
   "outputs": [],
   "source": [
    "defaultiface = {\"RECHARGE\": 6,}\n",
    "porosity = 0.05\n",
    "\n",
    "mpbas = flopy.modpath.Modpath7Bas(\n",
    "    mp, porosity=porosity, defaultiface=defaultiface\n",
    ")"
   ]
  },
  {
   "cell_type": "markdown",
   "id": "0835504d",
   "metadata": {},
   "source": [
    "### Finally create the SIM object\n",
    "\n",
    "Simulation object contains:\n",
    "   - Output file names\n",
    "   - Particle tracking direction\n",
    "   - Simulation type and output options\n",
    "   - Particle starting location data\n",
    "   - Options for terminating particles"
   ]
  },
  {
   "cell_type": "code",
   "execution_count": null,
   "id": "adaf499a",
   "metadata": {},
   "outputs": [],
   "source": [
    "# create a stop zone array and set well locations as\n",
    "# a stop zone\n",
    "wellids = ml.wel.stress_period_data.data[0][\"cellid\"]\n",
    "reily = wellids[0]\n",
    "vircit = wellids[1]\n",
    "\n",
    "if lak_nam.upper() != \"RCHA\":\n",
    "    lak_cellids = ml.get_package(lak_nam).stress_period_data.data[0][\"cellid\"]\n",
    "    lak_cellids = list(lak_cellids)\n",
    "else:\n",
    "    array = ml.npf.k.array\n",
    "    l, r, c = np.where(array == np.max(array))\n",
    "    lak_cellids = list(zip(l, r, c))\n",
    "\n",
    "zone_array = np.ones(ml.modelgrid.shape)\n",
    "for cellid in lak_cellids:\n",
    "    zone_array[cellid] = 2\n",
    "    \n",
    "zone_array[reily] = 3\n",
    "zone_array[vircit] = 4"
   ]
  },
  {
   "cell_type": "code",
   "execution_count": null,
   "id": "194bbda1",
   "metadata": {},
   "outputs": [],
   "source": [
    "# now build the simulation object\n",
    "mpsim = flopy.modpath.Modpath7Sim(\n",
    "    mp,\n",
    "    simulationtype=\"pathline\",\n",
    "    pathlinefilename=f\"mv_mp{case}.pathline7\",\n",
    "    endpointfilename=f\"mv_mp{case}.endpoint7\",\n",
    "    trackingdirection=\"forward\",\n",
    "    weaksinkoption=\"pass_through\",\n",
    "    weaksourceoption=\"pass_through\",\n",
    "    budgetoutputoption=\"summary\",\n",
    "    referencetime=[0, 0, 0.0],\n",
    "    stoptimeoption=\"extend\",\n",
    "    particlegroups=[pg0],\n",
    "    zonedataoption=\"on\",\n",
    "    stopzone=2,\n",
    "    zones=zone_array\n",
    ")"
   ]
  },
  {
   "cell_type": "markdown",
   "id": "70e16a9c",
   "metadata": {},
   "source": [
    "#### Write the input files"
   ]
  },
  {
   "cell_type": "code",
   "execution_count": null,
   "id": "2238ce12",
   "metadata": {},
   "outputs": [],
   "source": [
    "mp.write_input()"
   ]
  },
  {
   "cell_type": "markdown",
   "id": "a0b8e8b1",
   "metadata": {},
   "source": [
    "### Run the MODPATH model"
   ]
  },
  {
   "cell_type": "code",
   "execution_count": null,
   "id": "b39d5182",
   "metadata": {},
   "outputs": [],
   "source": [
    "mp.run_model();"
   ]
  },
  {
   "cell_type": "markdown",
   "id": "e2e91b71",
   "metadata": {},
   "source": [
    "### Read MODSIM pathline output"
   ]
  },
  {
   "cell_type": "code",
   "execution_count": null,
   "id": "9c4bacde",
   "metadata": {},
   "outputs": [],
   "source": [
    "import pandas as pd"
   ]
  },
  {
   "cell_type": "code",
   "execution_count": null,
   "id": "631af72d",
   "metadata": {},
   "outputs": [],
   "source": [
    "# identify the particles that were captured\n",
    "ep = flopy.utils.EndpointFile(f\"mv_mp{case}.endpoint7\")\n",
    "edata = ep.get_alldata()\n",
    "df = pd.DataFrame.from_records(edata)\n",
    "df = df[df.zone != 0]\n",
    "\n",
    "tdf = df[df.zone == 1]\n",
    "lake_pids = tdf.particleid.values.astype(int)\n",
    "lake_eps = tdf.to_records()\n",
    "\n",
    "tdf = df[df.zone == 2]\n",
    "reily_pids = tdf.particleid.values.astype(int)\n",
    "reily_eps = tdf.to_records()\n",
    "\n",
    "tdf = df[df.zone == 3]\n",
    "vcity_pids = tdf.particleid.values.astype(int)\n",
    "vcity_eps = tdf.to_records()\n",
    "\n",
    "endpoints = {\"McDonald Lake\": lake_eps, \"Reily's Brewing Well\": reily_eps, \"Virginia City Well\": vcity_eps}"
   ]
  },
  {
   "cell_type": "code",
   "execution_count": null,
   "id": "fb5d0e0e",
   "metadata": {},
   "outputs": [],
   "source": [
    "# get pathline data\n",
    "pl = flopy.utils.PathlineFile(f\"mv_mp{case}.pathline7\")\n",
    "pdata = pl.get_alldata()\n",
    "\n",
    "lak_paths = [pdata[ix] for ix in lake_pids]\n",
    "reily_paths = [pdata[ix] for ix in reily_pids]\n",
    "vcity_paths = [pdata[ix] for ix in vcity_pids]\n",
    "\n",
    "pathlines = {\"McDonald Lake\": lak_paths, \"Reily's Brewing Well\": reily_paths, \"Virginia City Well\": vcity_paths}"
   ]
  },
  {
   "cell_type": "code",
   "execution_count": null,
   "id": "6ee6ca86",
   "metadata": {},
   "outputs": [],
   "source": [
    "with styles.USGSMap():\n",
    "    fig, axs = plt.subplots(ncols=3, figsize=(15, 7))\n",
    "    n = 0\n",
    "    for title, paths in endpoints.items():\n",
    "        pmv = flopy.plot.PlotMapView(model=ml, ax=axs[n])\n",
    "        pmv.plot_grid()\n",
    "        if lak_nam not in (\"RCHA\"):\n",
    "            pmv.plot_bc(lak_nam, plotAll=True)\n",
    "        else:\n",
    "            array = ml.npf.k.array[0]\n",
    "            array[array != np.max(array)] = np.nan\n",
    "            array[~np.isnan(array)] = 1\n",
    "            pmv.plot_array(array, cmap=\"seismic\")\n",
    "        pmv.plot_bc(\"RIV\")\n",
    "        pmv.plot_bc(\"WEL\", plotAll=True, zorder=5)\n",
    "        pmv.plot_endpoint(paths, direction=\"starting\")\n",
    "        # plot reily's premium beverage property\n",
    "        axs[n].plot([6600, 8600, 8600, 6600, 6600], [16700, 16700, 18700, 18700, 16700], \"--\", lw=2, color=\"r\")\n",
    "    \n",
    "        axs[n].set_title(f\"McDonald valley Case {case.upper()}: {title}\")\n",
    "        n += 1\n",
    "plt.savefig(f\"Capture_zones_ep_{case}.jpg\")"
   ]
  },
  {
   "cell_type": "code",
   "execution_count": null,
   "id": "4460a181",
   "metadata": {},
   "outputs": [],
   "source": [
    "with styles.USGSMap():\n",
    "    fig, axs = plt.subplots(ncols=3, figsize=(15, 7))\n",
    "    n = 0\n",
    "    for title, paths in pathlines.items():\n",
    "        pmv = flopy.plot.PlotMapView(model=ml, ax=axs[n])\n",
    "        pmv.plot_grid()\n",
    "        if lak_nam not in (\"RCHA\"):\n",
    "            pmv.plot_bc(lak_nam, plotAll=True)\n",
    "        else:\n",
    "            array = ml.npf.k.array[0]\n",
    "            array[array != np.max(array)] = np.nan\n",
    "            array[~np.isnan(array)] = 1\n",
    "            pmv.plot_array(array, cmap=\"seismic\")\n",
    "        pmv.plot_bc(\"RIV\")\n",
    "        pmv.plot_bc(\"WEL\", plotAll=True)\n",
    "        pmv.plot_pathline(paths, colors=[\"k\", \"y\", \"c\", \"b\", \"g\"], layer=\"all\")\n",
    "        # plot reily's premium beverage property\n",
    "        axs[n].plot([6600, 8600, 8600, 6600, 6600], [16700, 16700, 18700, 18700, 16700], \"--\", lw=2, color=\"r\")\n",
    "    \n",
    "        axs[n].set_title(f\"McDonald valley Case {case.upper()}: {title}\")\n",
    "        n += 1\n",
    "plt.savefig(f\"Capture_zones_pl_{case}.jpg\")"
   ]
  },
  {
   "cell_type": "code",
   "execution_count": null,
   "id": "b4c0f8f6",
   "metadata": {},
   "outputs": [],
   "source": []
  },
  {
   "cell_type": "code",
   "execution_count": null,
   "id": "80ebfa39",
   "metadata": {},
   "outputs": [],
   "source": []
  }
 ],
 "metadata": {
  "kernelspec": {
   "display_name": "Python 3 (ipykernel)",
   "language": "python",
   "name": "python3"
  },
  "language_info": {
   "codemirror_mode": {
    "name": "ipython",
    "version": 3
   },
   "file_extension": ".py",
   "mimetype": "text/x-python",
   "name": "python",
   "nbconvert_exporter": "python",
   "pygments_lexer": "ipython3",
   "version": "3.9.12"
  }
 },
 "nbformat": 4,
 "nbformat_minor": 5
}
