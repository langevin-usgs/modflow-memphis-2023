{
 "cells": [
  {
   "cell_type": "code",
   "execution_count": null,
   "id": "06518042",
   "metadata": {},
   "outputs": [],
   "source": [
    "import pyemu\n",
    "import flopy as fp\n",
    "import os, shutil\n",
    "from pathlib import Path\n",
    "import numpy as np\n",
    "import pandas as pd\n",
    "import matplotlib.pyplot as plt"
   ]
  },
  {
   "cell_type": "markdown",
   "id": "a064e278-36c8-429a-aed2-543647eaa41e",
   "metadata": {},
   "source": [
    "## define a location for the background files to start with, and a setup directory to copy to and work in"
   ]
  },
  {
   "cell_type": "code",
   "execution_count": null,
   "id": "60e40df9",
   "metadata": {},
   "outputs": [],
   "source": [
    "org_d = Path('../pest_background_files/')\n",
    "t_d = Path('../pest_ies_setup')"
   ]
  },
  {
   "cell_type": "code",
   "execution_count": null,
   "id": "db1c558d",
   "metadata": {},
   "outputs": [],
   "source": [
    "if t_d.exists():\n",
    "    shutil.rmtree(t_d)\n",
    "shutil.copytree(org_d,t_d)\n"
   ]
  },
  {
   "cell_type": "markdown",
   "id": "b585e264",
   "metadata": {},
   "source": [
    "### get spatial reference for the model - pilot points are based on geographic coordinates (not on layer/row/column)"
   ]
  },
  {
   "cell_type": "code",
   "execution_count": null,
   "id": "8f82424d",
   "metadata": {},
   "outputs": [],
   "source": [
    "sim = fp.mf6.MFSimulation.load(sim_ws = str(t_d))\n",
    "gwf = sim.get_model()"
   ]
  },
  {
   "cell_type": "code",
   "execution_count": null,
   "id": "a6b4508e",
   "metadata": {},
   "outputs": [],
   "source": [
    "sr = pyemu.helpers.SpatialReference.from_namfile(\n",
    "        str(t_d / \"at.nam\"),\n",
    "        delr=gwf.dis.delr.array, delc=gwf.dis.delc.array)\n",
    "sr"
   ]
  },
  {
   "cell_type": "markdown",
   "id": "341adf62",
   "metadata": {},
   "source": [
    "### set up variograms for K pilot points"
   ]
  },
  {
   "cell_type": "code",
   "execution_count": null,
   "id": "ccb8e4e3",
   "metadata": {},
   "outputs": [],
   "source": [
    "pp_aq = 3\n",
    "# exponential variogram for spatially varying parameters\n",
    "v_aq = pyemu.geostats.ExpVario(contribution=1.0, #sill\n",
    "                                    a=pp_aq * 3 * sr.delc[0], # range of correlation; length units of the model. In our case 'meters'\n",
    "                                    anisotropy=1.0, #name says it all\n",
    "                                    bearing=0.0 #angle in degrees East of North corresponding to anisotropy ellipse\n",
    "                                    )\n",
    "\n",
    "# geostatistical structure for spatially varying parameters\n",
    "aq_gs = pyemu.geostats.GeoStruct(variograms=v_aq, transform='log') "
   ]
  },
  {
   "cell_type": "code",
   "execution_count": null,
   "id": "ccd7e6c3-c122-4a58-98dd-a48acee0cfa3",
   "metadata": {},
   "outputs": [],
   "source": [
    "v_aq.plot()"
   ]
  },
  {
   "cell_type": "code",
   "execution_count": null,
   "id": "d20d1937",
   "metadata": {},
   "outputs": [],
   "source": [
    "pp_clay=6\n",
    "# exponential variogram for spatially varying parameters\n",
    "v_clay = pyemu.geostats.ExpVario(contribution=1.0, #sill\n",
    "                                    a=pp_clay * 5 * sr.delc[0], # range of correlation; length units of the model. In our case 'meters'\n",
    "                                    anisotropy=1.0, #name says it all\n",
    "                                    bearing=0.0 #angle in degrees East of North corresponding to anisotropy ellipse\n",
    "                                    )\n",
    "\n",
    "# geostatistical structure for spatially varying parameters\n",
    "clay_gs = pyemu.geostats.GeoStruct(variograms=v_clay, transform='log') "
   ]
  },
  {
   "cell_type": "code",
   "execution_count": null,
   "id": "9dde88c4-a101-4d25-94f4-cdbd10902839",
   "metadata": {},
   "outputs": [],
   "source": [
    "v_clay.plot()"
   ]
  },
  {
   "cell_type": "code",
   "execution_count": null,
   "id": "4afe4c1b",
   "metadata": {},
   "outputs": [],
   "source": [
    "ib = gwf.dis.idomain.array[0]\n"
   ]
  },
  {
   "cell_type": "markdown",
   "id": "4222c3ea",
   "metadata": {},
   "source": [
    "### we only need pilot points for two unique K files - k_aq and k_clay"
   ]
  },
  {
   "cell_type": "code",
   "execution_count": null,
   "id": "a1678f96",
   "metadata": {},
   "outputs": [],
   "source": [
    "k_aq = np.loadtxt(t_d/'k_aq.ref')\n",
    "k_clay = np.loadtxt(t_d/'k_clay.ref')\n"
   ]
  },
  {
   "cell_type": "code",
   "execution_count": null,
   "id": "f2d0e49c-6a65-4fa8-af24-af4be45799e7",
   "metadata": {},
   "outputs": [],
   "source": [
    "fig,ax = plt.subplots(1,2,figsize=(8,4))\n",
    "c = ax[0].imshow(k_aq)\n",
    "plt.colorbar(c, ax=ax[0])\n",
    "ax[0].set_title('aquifer')\n",
    "c1 = ax[1].imshow(k_clay)\n",
    "plt.colorbar(c1, ax=ax[1])\n",
    "ax[1].set_title('clay')\n"
   ]
  },
  {
   "cell_type": "markdown",
   "id": "20b57295-c924-4533-8af5-ed0fee4fcc3c",
   "metadata": {},
   "source": [
    "### we can define spatial zones based on the initial K values, assuming they are grouped as homogeneous and unique values"
   ]
  },
  {
   "cell_type": "code",
   "execution_count": null,
   "id": "66afa108",
   "metadata": {},
   "outputs": [],
   "source": [
    "uniq_aq = np.unique(k_aq)\n",
    "aq_zones_dict = dict(zip(np.arange(1,len(uniq_aq)+1), uniq_aq))\n",
    "aq_zones_dict"
   ]
  },
  {
   "cell_type": "code",
   "execution_count": null,
   "id": "b57b85bd",
   "metadata": {},
   "outputs": [],
   "source": [
    "uniq_clay = np.unique(k_clay)\n",
    "clay_zones_dict = dict(zip(np.arange(1,len(uniq_clay)+1), uniq_clay))\n",
    "clay_zones_dict"
   ]
  },
  {
   "cell_type": "markdown",
   "id": "8b4f1fd4-63bc-43b9-8951-f4d8ceb45eaa",
   "metadata": {},
   "source": [
    "### make integer arrays of zones for the unique values of the aquifer ... "
   ]
  },
  {
   "cell_type": "code",
   "execution_count": null,
   "id": "06adf3d2-4de7-4289-b02f-63b478a09f90",
   "metadata": {},
   "outputs": [],
   "source": [
    "aq_zones = np.zeros_like(k_aq)\n",
    "for ck, cv in aq_zones_dict.items():\n",
    "    aq_zones[k_aq==cv] = ck\n"
   ]
  },
  {
   "cell_type": "markdown",
   "id": "d947275d-9113-4830-b515-6281657249f6",
   "metadata": {},
   "source": [
    "### ... and the clay"
   ]
  },
  {
   "cell_type": "code",
   "execution_count": null,
   "id": "95494bf4-e7f4-4877-b2c0-e8d898136da3",
   "metadata": {},
   "outputs": [],
   "source": [
    "# only put pilot points in the clay where the clay is actually present\n",
    "clay_zones = np.zeros_like(k_aq)\n",
    "clay_zones[k_clay==clay_zones_dict[1]] = 1"
   ]
  },
  {
   "cell_type": "code",
   "execution_count": null,
   "id": "3ad060d4-1dd8-4ec0-a177-96f523de7c22",
   "metadata": {},
   "outputs": [],
   "source": [
    "fig,ax = plt.subplots(2,2,figsize=(8,6))\n",
    "ax=ax.ravel()\n",
    "c = ax[0].imshow(k_aq)\n",
    "plt.colorbar(c, ax=ax[0])\n",
    "ax[0].set_title('K aquifer')\n",
    "c1 = ax[1].imshow(k_clay)\n",
    "plt.colorbar(c1, ax=ax[1])\n",
    "ax[1].set_title('K clay')\n",
    "\n",
    "c2 = ax[2].imshow(aq_zones)\n",
    "plt.colorbar(c2, ax=ax[2])\n",
    "ax[2].set_title('Zones aquifer')\n",
    "\n",
    "c3 = ax[3].imshow(clay_zones)\n",
    "plt.colorbar(c3, ax=ax[3])\n",
    "ax[3].set_title('Zones clay');\n"
   ]
  },
  {
   "cell_type": "markdown",
   "id": "6a0584f0",
   "metadata": {},
   "source": [
    "## let's set up pilot points for the k files"
   ]
  },
  {
   "cell_type": "code",
   "execution_count": null,
   "id": "0a786de6",
   "metadata": {},
   "outputs": [],
   "source": [
    "aq_pp_df = pyemu.pp_utils.setup_pilotpoints_grid(sr=sr,  # model spatial reference\n",
    "                                              ibound=aq_zones, # to which cells to setup ppoints\n",
    "                                              # ibound=np.ones_like(aq_zones),\n",
    "                                              prefix_dict={0:['hk_aq']}, #prefix to add to parameter names\n",
    "                                              pp_dir=t_d, \n",
    "                                              tpl_dir=t_d, \n",
    "                                                 shapename=str(t_d / 'pp_aq.shp'),\n",
    "                                                use_ibound_zones=True,\n",
    "                                              every_n_cell=pp_aq) # pilot point spacing"
   ]
  },
  {
   "cell_type": "code",
   "execution_count": null,
   "id": "410b77f8",
   "metadata": {},
   "outputs": [],
   "source": [
    "plt.scatter(x=aq_pp_df.x,y=aq_pp_df.y, c=aq_pp_df.zone)\n",
    "plt.axis('square')\n",
    "plt.xlim([0,12500])"
   ]
  },
  {
   "cell_type": "code",
   "execution_count": null,
   "id": "e21a604b",
   "metadata": {},
   "outputs": [],
   "source": [
    "clay_pp_df = pyemu.pp_utils.setup_pilotpoints_grid(sr=sr,  # model spatial reference\n",
    "                                              ibound=clay_zones, # to which cells to setup ppoints\n",
    "                                              prefix_dict={0:['hk_clay']}, #prefix to add to parameter names\n",
    "                                              pp_dir=t_d, \n",
    "                                              tpl_dir=t_d, \n",
    "                                            shapename=str(t_d / 'pp_clay.shp'),\n",
    "                                                use_ibound_zones=True,\n",
    "                                              every_n_cell=pp_clay,\n",
    "                                              ) # pilot point spacing"
   ]
  },
  {
   "cell_type": "code",
   "execution_count": null,
   "id": "aa719032",
   "metadata": {},
   "outputs": [],
   "source": [
    "plt.scatter(x=clay_pp_df.x,y=clay_pp_df.y, c=clay_pp_df.zone)\n",
    "plt.axis('square')\n",
    "plt.ylim([0,20000])\n",
    "plt.xlim([0,12500])"
   ]
  },
  {
   "cell_type": "code",
   "execution_count": null,
   "id": "6718b2d4",
   "metadata": {},
   "outputs": [],
   "source": [
    "list(t_d.glob('*.tpl'))"
   ]
  },
  {
   "cell_type": "code",
   "execution_count": null,
   "id": "ddf6eecc",
   "metadata": {},
   "outputs": [],
   "source": [
    "list(t_d.glob('*.ins'))"
   ]
  },
  {
   "cell_type": "code",
   "execution_count": null,
   "id": "3bd08df8",
   "metadata": {},
   "outputs": [],
   "source": [
    "aq_pp_df.pargp"
   ]
  },
  {
   "cell_type": "code",
   "execution_count": null,
   "id": "4b3d8e61",
   "metadata": {},
   "outputs": [],
   "source": [
    "ok_aq = pyemu.geostats.OrdinaryKrige(aq_gs,aq_pp_df.loc[aq_pp_df.pargp=='hk_aq'])\n",
    "ok_clay = pyemu.geostats.OrdinaryKrige(clay_gs,clay_pp_df.loc[clay_pp_df.pargp=='hk_clay'])\n"
   ]
  },
  {
   "cell_type": "code",
   "execution_count": null,
   "id": "82425ee6",
   "metadata": {},
   "outputs": [],
   "source": [
    "aq_fac_df = ok_aq.calc_factors_grid(sr, minpts_interp=1,maxpts_interp=10, )\n",
    "clay_fac_df = ok_clay.calc_factors_grid(sr, minpts_interp=1,maxpts_interp=10, )\n"
   ]
  },
  {
   "cell_type": "code",
   "execution_count": null,
   "id": "fa37160f",
   "metadata": {},
   "outputs": [],
   "source": [
    "ok_aq.to_grid_factors_file(str(t_d / 'pp_aq.fac'))\n",
    "ok_clay.to_grid_factors_file(str(t_d / 'pp_clay.fac'))\n"
   ]
  },
  {
   "cell_type": "code",
   "execution_count": null,
   "id": "b3e14807",
   "metadata": {},
   "outputs": [],
   "source": [
    "list(t_d.glob('*.fac'))"
   ]
  },
  {
   "cell_type": "code",
   "execution_count": null,
   "id": "93593257",
   "metadata": {},
   "outputs": [],
   "source": [
    "aq_fac_df"
   ]
  },
  {
   "cell_type": "markdown",
   "id": "ea1e714c",
   "metadata": {},
   "source": [
    "### now make a PST file"
   ]
  },
  {
   "cell_type": "code",
   "execution_count": null,
   "id": "0f435b54",
   "metadata": {},
   "outputs": [],
   "source": [
    "cwd = Path(os.getcwd())\n",
    "os.chdir(t_d)\n",
    "pst = pyemu.Pst.from_io_files(*pyemu.helpers.parse_dir_for_io_files('.'))\n",
    "os.chdir(cwd)"
   ]
  },
  {
   "cell_type": "markdown",
   "id": "e1337c24",
   "metadata": {},
   "source": [
    "### set initial parameter values"
   ]
  },
  {
   "cell_type": "code",
   "execution_count": null,
   "id": "c341b7a3",
   "metadata": {},
   "outputs": [],
   "source": [
    "pars = pst.parameter_data"
   ]
  },
  {
   "cell_type": "markdown",
   "id": "48aaa9d1",
   "metadata": {},
   "source": [
    "### first set constant parameter values"
   ]
  },
  {
   "cell_type": "code",
   "execution_count": null,
   "id": "8bf86a65",
   "metadata": {},
   "outputs": [],
   "source": [
    "pars.loc[pars.parnme.str.contains('aniso')]"
   ]
  },
  {
   "cell_type": "code",
   "execution_count": null,
   "id": "2bc5fb13",
   "metadata": {},
   "outputs": [],
   "source": [
    "pars.loc['rv1', 'parval1'] = 1e+05\n",
    "pars.loc['rv1', 'parlbnd'] = 1e+03\n",
    "pars.loc['rv1', 'parubnd'] = 1e+06\n",
    "pars.loc['rv1', 'pargp'] = 'riv_cond'\n",
    "\n",
    "pars.loc['rch', 'parval1'] = 0.003641\n",
    "pars.loc['rch', 'parlbnd'] = 0.003641*.9\n",
    "pars.loc['rch', 'parubnd'] = 0.003641*1.1\n",
    "pars.loc['rch', 'pargp'] = 'rch'\n",
    "\n",
    "pars.loc['kaniso', 'parval1'] = 0.2\n",
    "pars.loc['kaniso', 'parlbnd'] = 0.001\n",
    "pars.loc['kaniso', 'parubnd'] = 0.85\n",
    "pars.loc['kaniso', 'pargp'] = 'anisotropy'\n",
    "\n",
    "pars.loc['kaniso_clay', 'parval1'] = 0.5\n",
    "pars.loc['kaniso_clay', 'parlbnd'] = 0.001\n",
    "pars.loc['kaniso_clay', 'parubnd'] = 0.85\n",
    "pars.loc['kaniso_clay', 'pargp'] = 'anisotropy_clay'"
   ]
  },
  {
   "cell_type": "markdown",
   "id": "9fc682e9",
   "metadata": {},
   "source": [
    "### next group parameters by their arrays and zones"
   ]
  },
  {
   "cell_type": "code",
   "execution_count": null,
   "id": "24f44c82",
   "metadata": {},
   "outputs": [],
   "source": [
    "pars.loc[~pars.zone.isnull(), 'pargp'] = [f\"{i.split('_i:')[0]}_{int(float(z))}\" for \n",
    "                                          i,z in zip(pars.loc[~pars.zone.isnull()].parnme,\n",
    "                                                     pars.loc[~pars.zone.isnull()].zone)]"
   ]
  },
  {
   "cell_type": "code",
   "execution_count": null,
   "id": "979eb3cc",
   "metadata": {},
   "outputs": [],
   "source": [
    "pars.zone = [float(i) for i in pars.zone]"
   ]
  },
  {
   "cell_type": "markdown",
   "id": "d7ec8608",
   "metadata": {},
   "source": [
    "### Without enforcing too much structure, we can adjust a few starting values and bounds to inform ies of at least some of the general patterns of K values"
   ]
  },
  {
   "cell_type": "code",
   "execution_count": null,
   "id": "b8766150",
   "metadata": {},
   "outputs": [],
   "source": [
    "pars.loc[pars.pargp.str.contains('hk_aq'), 'parval1'] = 200\n",
    "pars.loc[pars.pargp.str.contains('hk_aq'), 'parlbnd'] = .01\n",
    "pars.loc[pars.pargp.str.contains('hk_aq'), 'parubnd'] = 1e3\n",
    "pars.loc[pars.pargp.str.contains('hk_clay'), 'parval1'] = 1\n",
    "pars.loc[pars.pargp.str.contains('hk_clay'), 'parlbnd'] = .0001\n",
    "pars.loc[pars.pargp.str.contains('hk_clay'), 'parubnd'] = 1e2\n",
    "pars.loc[pars.pargp=='hk_aq_5', 'parval1'] = 200\n",
    "pars.loc[pars.pargp=='hk_aq_4', 'parval1'] = 200\n",
    "pars.loc[pars.pargp=='hk_aq_3', 'parval1'] = 200\n",
    "pars.loc[pars.pargp=='hk_aq_4', 'parubnd'] = 750\n",
    "pars.loc[pars.pargp=='hk_aq_3', 'parubnd'] = 500\n",
    "pars.loc[pars.pargp=='hk_clay_1', 'parval1'] = 1\n",
    "pars.loc[pars.pargp=='hk_clay_2', 'parval1'] = 150\n",
    "pars.loc[pars.pargp=='hk_clay_2', 'parlbnd'] = 1\n",
    "pars.loc[pars.pargp=='hk_clay_2', 'parubnd'] = 1000"
   ]
  },
  {
   "cell_type": "markdown",
   "id": "3f05700d",
   "metadata": {},
   "source": [
    "## read in the observation values and set them"
   ]
  },
  {
   "cell_type": "code",
   "execution_count": null,
   "id": "56b7ea50",
   "metadata": {},
   "outputs": [],
   "source": [
    "obsvals = pd.read_csv(t_d / 'obsvalues.dat', delim_whitespace=True, index_col=0)\n",
    "obsvals.sample(5)"
   ]
  },
  {
   "cell_type": "code",
   "execution_count": null,
   "id": "62106c31",
   "metadata": {},
   "outputs": [],
   "source": [
    "pst.observation_data.sample(5)"
   ]
  },
  {
   "cell_type": "code",
   "execution_count": null,
   "id": "3182a624",
   "metadata": {},
   "outputs": [],
   "source": [
    "pst.observation_data.loc[obsvals.index,'obgnme'] = obsvals.obgnme\n",
    "pst.observation_data.loc[obsvals.index,'obsval'] = obsvals.obsval\n",
    "pst.observation_data.loc[obsvals.index,'weight'] = obsvals.weight\n",
    "\n",
    "pst.observation_data"
   ]
  },
  {
   "cell_type": "markdown",
   "id": "f27cb2cb",
   "metadata": {},
   "source": [
    "### now we need to write out the `forward_run` script that includes pilot point interpolation, running MF6, and postprocesses the observations to prepare them for reading"
   ]
  },
  {
   "cell_type": "code",
   "execution_count": null,
   "id": "c1d8a44e",
   "metadata": {},
   "outputs": [],
   "source": [
    "with open(t_d / 'forward_run.py','w') as f:\n",
    "    #add imports\n",
    "    f.write(\"import os\\nimport shutil\\nimport numpy as np\\nimport pyemu\\nimport flopy\\n\")\n",
    "    f.write(\"import pandas as pd\\n\")\n",
    "    # preprocess pilot points to grid\n",
    "    f.write(\"_ = pyemu.geostats.fac2real('hk_aqpp.dat', factors_file='pp_aq.fac',out_file='k_aq.ref')\\n\")\n",
    "    f.write(\"_ = pyemu.geostats.fac2real('hk_claypp.dat', factors_file='pp_clay.fac',out_file='k_clay.ref')\\n\")\n",
    "    # run MF6\n",
    "    f.write(\"pyemu.os_utils.run('mf6')\\n\")\n",
    "    # process the observations\n",
    "    f.write(\"outfiles = ['./riv.csv','./at.wt.csv','./chd.csv','./at.csv']\\n\")\n",
    "    f.write(\"obs = pd.concat([pd.read_csv(i).T.iloc[1:] for i in outfiles])\\n\")\n",
    "    f.write(\"obs.loc['DS'] = obs.loc['DS'] + obs.loc['PF']\\n\") # note that we have to add the two river obs\n",
    "    f.write(\"obs.loc['UW02'] = obs.loc['U02']-obs.loc['W02']\\n\") # head difference targets\n",
    "    f.write(\"obs.loc['UW08'] = obs.loc['U08']-obs.loc['W08']\\n\") # head difference targets\n",
    "    f.write(\"obs.loc['UW15'] = obs.loc['U15']-obs.loc['W15']\\n\") # head difference targets\n",
    "    f.write(\"obs.columns=['obsname']\\n\")\n",
    "    f.write('obs.to_csv(\"allobs.dat\", sep = \" \")')\n",
    "    "
   ]
  },
  {
   "cell_type": "markdown",
   "id": "bff79fa3",
   "metadata": {},
   "source": [
    "### now set a few ies-specific values and write out the file"
   ]
  },
  {
   "cell_type": "code",
   "execution_count": null,
   "id": "015fac2e",
   "metadata": {},
   "outputs": [],
   "source": [
    "pst.model_command = ['python forward_run.py']\n",
    "pst.control_data.noptmax = 0\n",
    "\n",
    "pst.pestpp_options['ies_num_reals'] = 150\n",
    "pst.pestpp_options['par_sigma_range'] = 6\n",
    "pst.pestpp_options['ies_no_noise']='true'\n",
    "pst.write(str(t_d / 'mv.ies.pst'))"
   ]
  },
  {
   "cell_type": "markdown",
   "id": "c637de29",
   "metadata": {},
   "source": [
    "### copy the run folder over to be a master for parallel runs"
   ]
  },
  {
   "cell_type": "code",
   "execution_count": null,
   "id": "80cefdf4",
   "metadata": {},
   "outputs": [],
   "source": [
    "rundir = Path('../tmprun')\n",
    "if rundir.exists():\n",
    "    shutil.rmtree(rundir)\n",
    "shutil.copytree(t_d, rundir)"
   ]
  },
  {
   "cell_type": "markdown",
   "id": "fdab1f89-087a-42d3-b17e-fccb13d04d79",
   "metadata": {},
   "source": [
    "## now we need to balance the objective function - we can start based on the initial run"
   ]
  },
  {
   "cell_type": "markdown",
   "id": "390a2039-93a5-42fd-a81a-dace7492bdce",
   "metadata": {},
   "source": [
    "### run the model once through PEST"
   ]
  },
  {
   "cell_type": "code",
   "execution_count": null,
   "id": "afd43aa3-f302-4754-978a-2193a6362541",
   "metadata": {},
   "outputs": [],
   "source": [
    "pyemu.os_utils.run('pestpp-ies mv.ies.pst', str(rundir))"
   ]
  },
  {
   "cell_type": "markdown",
   "id": "65466bd4-f7a5-409b-8c1e-b55b9203c15e",
   "metadata": {},
   "source": [
    "### now read in the residuals and see how things look"
   ]
  },
  {
   "cell_type": "code",
   "execution_count": null,
   "id": "0b5fb354-e916-4f73-8186-8243f507d6dc",
   "metadata": {},
   "outputs": [],
   "source": [
    "pst_new = pyemu.Pst(str(rundir / 'mv.ies.pst'))"
   ]
  },
  {
   "cell_type": "code",
   "execution_count": null,
   "id": "8bf679df-1b3b-4fa8-a2f0-6563500dafe3",
   "metadata": {},
   "outputs": [],
   "source": [
    "pst_new.plot(kind='phi_pie')"
   ]
  },
  {
   "cell_type": "markdown",
   "id": "d36190b6-0006-4232-9c31-72e74205142e",
   "metadata": {},
   "source": [
    "### what are the components of the objective function?"
   ]
  },
  {
   "cell_type": "code",
   "execution_count": null,
   "id": "05042365-570c-495c-9afd-f41b0c4ada48",
   "metadata": {},
   "outputs": [],
   "source": [
    "pst_new.phi_components"
   ]
  },
  {
   "cell_type": "code",
   "execution_count": null,
   "id": "68899866-f5e7-434f-8ba7-df1ecbb55286",
   "metadata": {},
   "outputs": [],
   "source": [
    "phi = pst_new.phi\n",
    "phi"
   ]
  },
  {
   "cell_type": "code",
   "execution_count": null,
   "id": "59e253a7-e467-4024-880b-b32c58cc58ae",
   "metadata": {},
   "outputs": [],
   "source": [
    "new_components = {'headdiffgroup': phi*.15,\n",
    "                  'headgroup': phi*.225,\n",
    "            'lakegroup': phi*.225,\n",
    "            'rivgroup' : phi*.4}"
   ]
  },
  {
   "cell_type": "code",
   "execution_count": null,
   "id": "d4a8c693-329e-45f5-a9a4-81095fa6ba3d",
   "metadata": {},
   "outputs": [],
   "source": [
    "pst_new.adjust_weights(obsgrp_dict=new_components)"
   ]
  },
  {
   "cell_type": "code",
   "execution_count": null,
   "id": "17b03ba7-b7e0-406f-8ef7-03390c3b4609",
   "metadata": {},
   "outputs": [],
   "source": [
    "pst_new.phi_components"
   ]
  },
  {
   "cell_type": "code",
   "execution_count": null,
   "id": "9dcf6cdb-771d-4971-8c75-1740c45e4121",
   "metadata": {},
   "outputs": [],
   "source": [
    "pst_new.plot(kind='phi_pie')"
   ]
  },
  {
   "cell_type": "code",
   "execution_count": null,
   "id": "a43140e3-b4fe-4e74-b099-7c97c03ae707",
   "metadata": {},
   "outputs": [],
   "source": [
    "pst_new.observation_data"
   ]
  },
  {
   "cell_type": "code",
   "execution_count": null,
   "id": "b5b5db1d-10fc-414c-ae29-362491441eca",
   "metadata": {},
   "outputs": [],
   "source": [
    "pst_new.control_data.noptmax=3"
   ]
  },
  {
   "cell_type": "code",
   "execution_count": null,
   "id": "97a8ec94-92ee-48b6-a4ed-cf5ef4a8036c",
   "metadata": {},
   "outputs": [],
   "source": [
    "pst_new.write(str(rundir / 'mv.ies.pst'))\n",
    "pst_new.write(str(t_d / 'mv.ies.pst'))\n"
   ]
  },
  {
   "cell_type": "markdown",
   "id": "f9b29743",
   "metadata": {},
   "source": [
    "### now run the parameter estimation in parallel"
   ]
  },
  {
   "cell_type": "code",
   "execution_count": null,
   "id": "1aa6a0a1",
   "metadata": {
    "scrolled": true
   },
   "outputs": [],
   "source": [
    "run_flag = True\n",
    "if run_flag:\n",
    "    pyemu.os_utils.start_workers(str(t_d),num_workers=15, master_dir=str(rundir), \n",
    "                             exe_rel_path='pestpp-ies',\n",
    "                            pst_rel_path='mv.ies.pst')"
   ]
  },
  {
   "cell_type": "code",
   "execution_count": null,
   "id": "2e8b79df-fc19-4050-aeaf-eca0fae4994f",
   "metadata": {},
   "outputs": [],
   "source": []
  }
 ],
 "metadata": {
  "kernelspec": {
   "display_name": "Python 3 (ipykernel)",
   "language": "python",
   "name": "python3"
  },
  "language_info": {
   "codemirror_mode": {
    "name": "ipython",
    "version": 3
   },
   "file_extension": ".py",
   "mimetype": "text/x-python",
   "name": "python",
   "nbconvert_exporter": "python",
   "pygments_lexer": "ipython3",
   "version": "3.11.5"
  }
 },
 "nbformat": 4,
 "nbformat_minor": 5
}
