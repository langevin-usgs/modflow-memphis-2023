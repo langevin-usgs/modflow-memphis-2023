{
 "cells": [
  {
   "cell_type": "code",
   "execution_count": null,
   "id": "19620d13",
   "metadata": {},
   "outputs": [],
   "source": [
    "import pandas as pd\n",
    "import numpy as np\n",
    "import matplotlib.pyplot as plt\n",
    "from matplotlib.backends.backend_pdf import PdfPages\n",
    "import matplotlib as mpl\n",
    "import pyemu\n",
    "from pathlib import Path\n",
    "import os, shutil\n",
    "import flopy as fp"
   ]
  },
  {
   "cell_type": "code",
   "execution_count": null,
   "id": "e8130527",
   "metadata": {},
   "outputs": [],
   "source": [
    "ies_dir = Path('../tmprun/')\n",
    "pst = pyemu.Pst(str(ies_dir / 'mv.ies.pst'))"
   ]
  },
  {
   "cell_type": "code",
   "execution_count": null,
   "id": "ab593b95-2062-4408-839c-5b3eeb9d34b2",
   "metadata": {},
   "outputs": [],
   "source": [
    "pst.parameter_data"
   ]
  },
  {
   "cell_type": "code",
   "execution_count": null,
   "id": "bc01ecad-0390-42de-ab4a-cabea5c2a2b7",
   "metadata": {},
   "outputs": [],
   "source": [
    "obs_true = pst.observation_data\n",
    "obs_true"
   ]
  },
  {
   "cell_type": "markdown",
   "id": "36e3c8ae",
   "metadata": {},
   "source": [
    "## take a look at the prior MC "
   ]
  },
  {
   "cell_type": "code",
   "execution_count": null,
   "id": "5b2cdc30",
   "metadata": {},
   "outputs": [],
   "source": [
    "phi = pd.read_csv(ies_dir / 'mv.ies.phi.actual.csv').T.iloc[6:]\n",
    "phi0 = phi[0]"
   ]
  },
  {
   "cell_type": "code",
   "execution_count": null,
   "id": "6a39ed13",
   "metadata": {},
   "outputs": [],
   "source": [
    "phi0.hist(bins=50)\n"
   ]
  },
  {
   "cell_type": "markdown",
   "id": "599f167c-a50e-4415-9d0e-75561dcdead4",
   "metadata": {},
   "source": [
    "## but we need to reject \"bad\" PHI values "
   ]
  },
  {
   "cell_type": "code",
   "execution_count": null,
   "id": "48c82e10-71de-4c6b-8852-1fdf7bda753b",
   "metadata": {},
   "outputs": [],
   "source": [
    "phitoohigh_prior = 10000\n",
    "indobskeep_prior = phi.loc[phi[0] <= phitoohigh_prior].index"
   ]
  },
  {
   "cell_type": "code",
   "execution_count": null,
   "id": "ab888595-692e-47fc-ad9f-aa56c204f08d",
   "metadata": {},
   "outputs": [],
   "source": [
    "phi0.loc[indobskeep_prior]"
   ]
  },
  {
   "cell_type": "code",
   "execution_count": null,
   "id": "cc5fbcf5-b5e1-4a32-b0ff-f69fc96eef08",
   "metadata": {},
   "outputs": [],
   "source": [
    "phi0.loc[indobskeep_prior].hist(bins=50)"
   ]
  },
  {
   "cell_type": "markdown",
   "id": "6689ce76",
   "metadata": {},
   "source": [
    "## let's check out the observations from prior MC and iES"
   ]
  },
  {
   "cell_type": "code",
   "execution_count": null,
   "id": "bec653d4",
   "metadata": {},
   "outputs": [],
   "source": [
    "pst = pyemu.Pst(str(ies_dir / 'mv.ies.pst'))"
   ]
  },
  {
   "cell_type": "code",
   "execution_count": null,
   "id": "0eec8357",
   "metadata": {},
   "outputs": [],
   "source": [
    "obsdat = pst.observation_data.copy()\n",
    "obsdat.sample(5)"
   ]
  },
  {
   "cell_type": "code",
   "execution_count": null,
   "id": "fa9c32c8",
   "metadata": {},
   "outputs": [],
   "source": [
    "fig, ax = plt.subplots(1,2, figsize=(8,5))\n",
    "phi.T.plot(legend=False, color='grey',alpha=.2, lw=0.5, ax=ax[0])\n",
    "phi.loc['base'].plot(color='b', ax=ax[0])\n",
    "ax[0].set_yscale('log')\n",
    "ax[0].set_title('log-scale $\\\\Phi$')\n",
    "phi.T.plot(legend=False, color='grey',alpha=.2, lw=0.5, ax=ax[1])\n",
    "phi.loc['base'].plot(color='b', ax=ax[1])\n",
    "ax[1].set_title('linear-scale $\\\\Phi$');\n"
   ]
  },
  {
   "cell_type": "code",
   "execution_count": null,
   "id": "3905cc63",
   "metadata": {},
   "outputs": [],
   "source": [
    "phi = pd.read_csv(ies_dir / 'mv.ies.phi.actual.csv').T.iloc[6:]\n",
    "for cc in phi.columns:\n",
    "    phi.loc[phi[cc]>1e6,cc] = np.nan"
   ]
  },
  {
   "cell_type": "markdown",
   "id": "e9026de6-3d08-492f-b7aa-2f73f38a70a7",
   "metadata": {},
   "source": [
    "## We can focus in on iteration 3 as \"best\" and see how things changed due to iES"
   ]
  },
  {
   "cell_type": "code",
   "execution_count": null,
   "id": "ac31a6bb",
   "metadata": {},
   "outputs": [],
   "source": [
    "citer = 3\n",
    "obs = pd.read_csv(ies_dir / 'mv.ies.0.obs.csv', index_col=0)\n",
    "obs_final = pd.read_csv(ies_dir / f'mv.ies.{citer}.obs.csv', index_col=0)"
   ]
  },
  {
   "cell_type": "markdown",
   "id": "bea54a76-7e56-4486-be7f-f4e9b9d29422",
   "metadata": {},
   "source": [
    "### drop the bad prior realizations"
   ]
  },
  {
   "cell_type": "code",
   "execution_count": null,
   "id": "cc8634fd-d381-45d2-bc19-538f5fb37bc4",
   "metadata": {},
   "outputs": [],
   "source": [
    "phi[3].hist(bins=25)"
   ]
  },
  {
   "cell_type": "markdown",
   "id": "fdb99d07-bbf6-4cb2-badb-a19edf0e142c",
   "metadata": {},
   "source": [
    "## but we need to reject \"bad\" PHI values again"
   ]
  },
  {
   "cell_type": "code",
   "execution_count": null,
   "id": "600936e2-22b4-4cd3-8fd1-11222fd916db",
   "metadata": {},
   "outputs": [],
   "source": [
    "phitoohigh = 150"
   ]
  },
  {
   "cell_type": "code",
   "execution_count": null,
   "id": "1b227462-c637-4f2b-9322-99e82d003d45",
   "metadata": {},
   "outputs": [],
   "source": [
    "indobskeep = phi.loc[phi[3] <= phitoohigh].index"
   ]
  },
  {
   "cell_type": "code",
   "execution_count": null,
   "id": "a62a5a44-e7f7-43b0-8530-6d166b31510b",
   "metadata": {},
   "outputs": [],
   "source": [
    "obs = obs.loc[indobskeep_prior]\n",
    "obs_final = obs_final.loc[indobskeep]"
   ]
  },
  {
   "cell_type": "code",
   "execution_count": null,
   "id": "95e3f284-06fc-4bdc-a04f-164965a46341",
   "metadata": {},
   "outputs": [],
   "source": [
    "with PdfPages(f'allobs.prior.pdf') as outpdf:\n",
    "    for cc in obs.columns:\n",
    "        plt.figure()\n",
    "        ax = obs[cc].hist(bins=20, color='grey', alpha=.5, density=1)\n",
    "        ax.axvline(obsdat.loc[cc].obsval, color='orange')\n",
    "        plt.title(cc)\n",
    "        plt.tight_layout()\n",
    "        outpdf.savefig()\n",
    "        plt.close('all')"
   ]
  },
  {
   "cell_type": "code",
   "execution_count": null,
   "id": "d9c6f4fb",
   "metadata": {},
   "outputs": [],
   "source": [
    "with PdfPages(f'allobs.iter_{citer}.pdf') as outpdf:\n",
    "    for cc in obs.columns:\n",
    "        plt.figure()\n",
    "        ax = obs[cc].hist(bins=20, color='grey', alpha=.5, density=1)\n",
    "        obs_final[cc].hist(bins=20, color='blue', density=1)\n",
    "        ax.axvline(obsdat.loc[cc].obsval, color='orange')\n",
    "        plt.title(cc)\n",
    "        plt.tight_layout()\n",
    "        outpdf.savefig()\n",
    "        plt.close('all')"
   ]
  },
  {
   "cell_type": "markdown",
   "id": "281e8b26-59d6-48a8-8442-b100ba2c5cb1",
   "metadata": {},
   "source": [
    "## how does this look spatially?"
   ]
  },
  {
   "cell_type": "code",
   "execution_count": null,
   "id": "8aa44ee7-e3ef-4677-bd63-a0eea9077d2d",
   "metadata": {},
   "outputs": [],
   "source": [
    "# load up the model with flopy\n",
    "sim = fp.mf6.MFSimulation.load(sim_ws = '../tmprun/')\n",
    "m = sim.get_model()"
   ]
  },
  {
   "cell_type": "code",
   "execution_count": null,
   "id": "7bd104a8-1a08-43b2-b1dc-bfad1f10bae0",
   "metadata": {},
   "outputs": [],
   "source": [
    "df_deep = pd.DataFrame.from_records(m.obs[2].continuous.data['at.csv'])\n",
    "df_deep"
   ]
  },
  {
   "cell_type": "code",
   "execution_count": null,
   "id": "2aa75060-9832-4f3c-8218-3b4d38d4b64d",
   "metadata": {},
   "outputs": [],
   "source": [
    "df_shallow = pd.DataFrame.from_records(m.obs[2].continuous.data['at.wt.csv'])\n",
    "df_shallow"
   ]
  },
  {
   "cell_type": "markdown",
   "id": "90064574-cd63-499c-b8e0-e355a1ac84c4",
   "metadata": {},
   "source": [
    "## find the cell centers for the head observations for plotting"
   ]
  },
  {
   "cell_type": "code",
   "execution_count": null,
   "id": "0bec2b03-5ed5-40b0-9ac3-4346414381a8",
   "metadata": {},
   "outputs": [],
   "source": [
    "xc, yc = m.modelgrid.xcellcenters, m.modelgrid.ycellcenters\n",
    "for df in [df_deep, df_shallow]:\n",
    "    df['y'] = [yc[i[1],i[2]] for i in df['id']]\n",
    "    df['x'] = [xc[i[1],i[2]] for i in df['id']]\n",
    "    "
   ]
  },
  {
   "cell_type": "markdown",
   "id": "7b3e740f-5e9e-4857-a9b3-463185e6e2cf",
   "metadata": {},
   "source": [
    "## let's look and the base residuals and get the standard deviation of the residuals"
   ]
  },
  {
   "cell_type": "code",
   "execution_count": null,
   "id": "dce837d0-7f86-4a0c-abe8-e91bd3ee567e",
   "metadata": {},
   "outputs": [],
   "source": [
    "for df in [df_deep, df_shallow]:\n",
    "    df['resid_prior_std'] = [(obs[i]-obs_true.loc[i].obsval).std() for i in df.obsname]\n",
    "    df['resid_post_std'] = [(obs_final[i]-obs_true.loc[i].obsval).std() for i in df.obsname]\n",
    "    df['base_prior_resid'] = [obs.loc['base',i]-obs_true.loc[i].obsval for i in df.obsname]\n",
    "    df['base_post_resid'] = [obs_final.loc['base',i]-obs_true.loc[i].obsval for i in df.obsname]\n",
    "    "
   ]
  },
  {
   "cell_type": "code",
   "execution_count": null,
   "id": "8154000a-3c0e-4329-922b-4e40a6aa0e06",
   "metadata": {},
   "outputs": [],
   "source": [
    "df"
   ]
  },
  {
   "cell_type": "code",
   "execution_count": null,
   "id": "7b087aab-b2bc-46cf-a11c-7c0c6ecf8a5b",
   "metadata": {},
   "outputs": [],
   "source": [
    "fig, allax = plt.subplots(1,2, figsize=(10, 6))\n",
    "for ax, cc in zip(allax,['base_prior_resid','base_post_resid']):\n",
    "    ax.set_aspect('equal')\n",
    "    pmv = fp.plot.PlotMapView(m, ax=ax)\n",
    "    lc = pmv.plot_grid(lw=0.5)\n",
    "    # pmv.plot_array(m.npf.k[1].array, alpha=.1)\n",
    "    pmv.plot_bc(\"RIV\")\n",
    "    pmv.plot_bc(\"CHD\", alpha=.2)\n",
    "\n",
    "    c = ax.scatter(df_shallow.x,df_shallow.y, s=np.abs(df_shallow[cc])*200,c=df_shallow[cc],\n",
    "                  norm=mpl.colors.CenteredNorm(),cmap='coolwarm')\n",
    "    [ax.text(x,y,s) for x,y,s, in zip(df_shallow.x.values,df_shallow.y.values,df_shallow.obsname.values)]\n",
    "    plt.colorbar(c)\n",
    "    ax.set_title(cc.split('_')[1].capitalize(), fontsize=12)\n",
    "plt.suptitle('Base Realization Shallow Residuals', fontsize=14)"
   ]
  },
  {
   "cell_type": "code",
   "execution_count": null,
   "id": "b557805d-bd82-4c18-b2b0-dd6cb413b463",
   "metadata": {},
   "outputs": [],
   "source": [
    "fig, allax = plt.subplots(1,2, figsize=(10, 6))\n",
    "for ax, cc in zip(allax,['base_prior_resid','base_post_resid']):\n",
    "    ax.set_aspect('equal')\n",
    "    pmv = fp.plot.PlotMapView(m, ax=ax)\n",
    "    lc = pmv.plot_grid(lw=0.5)\n",
    "    # pmv.plot_array(m.npf.k[1].array, alpha=.1)\n",
    "    pmv.plot_bc(\"RIV\")\n",
    "    pmv.plot_bc(\"CHD\", alpha=.2)\n",
    "    \n",
    "    c = ax.scatter(df_deep.x,df_deep.y, s=np.abs(df_deep[cc])*200,c=df_deep[cc],\n",
    "                   norm=mpl.colors.CenteredNorm(),cmap='coolwarm')\n",
    "    [ax.text(x,y,s) for x,y,s, in zip(df_deep.x.values,df_deep.y.values,df_deep.obsname.values)]\n",
    "\n",
    "    plt.colorbar(c)\n",
    "    ax.set_title(cc.split('_')[1].capitalize(), fontsize=12)\n",
    "plt.suptitle('Base Realization Deep Residuals', fontsize=14)"
   ]
  },
  {
   "cell_type": "code",
   "execution_count": null,
   "id": "6ddc7b29-5b70-44df-a159-49e19a8675ac",
   "metadata": {},
   "outputs": [],
   "source": [
    "fig, allax = plt.subplots(1,2, figsize=(10, 6))\n",
    "for ax, cc in zip(allax,['resid_prior_std','resid_post_std']):\n",
    "    ax.set_aspect('equal')\n",
    "    pmv = fp.plot.PlotMapView(m, ax=ax)\n",
    "    lc = pmv.plot_grid(lw=0.5)\n",
    "    # pmv.plot_array(m.npf.k[1].array, alpha=.3)\n",
    "    pmv.plot_bc(\"RIV\")\n",
    "    pmv.plot_bc(\"CHD\", alpha=.2)\n",
    "    \n",
    "    c = ax.scatter(df_shallow.x,df_shallow.y, s=df_shallow[cc]*100,c=df_shallow[cc], vmin=0, vmax=2.5)\n",
    "    plt.colorbar(c)\n",
    "    ax.set_title(cc.split('_')[1].capitalize(), fontsize=12)\n",
    "plt.suptitle('Standard Deviation of Shallow Residuals', fontsize=14)\n",
    "    "
   ]
  },
  {
   "cell_type": "code",
   "execution_count": null,
   "id": "65fa740f-8d13-450d-b212-ab2e30073ec9",
   "metadata": {},
   "outputs": [],
   "source": [
    "fig, allax = plt.subplots(1,2, figsize=(10, 6))\n",
    "for ax, cc in zip(allax,['resid_prior_std','resid_post_std']):\n",
    "    ax.set_aspect('equal')\n",
    "    pmv = fp.plot.PlotMapView(m, ax=ax)\n",
    "    lc = pmv.plot_grid(lw=0.5)\n",
    "    # pmv.plot_array(m.npf.k[1].array, alpha=.3)\n",
    "    pmv.plot_bc(\"RIV\")\n",
    "    pmv.plot_bc(\"CHD\", alpha=.2)\n",
    "\n",
    "    c = ax.scatter(df_deep.x,df_deep.y, s=df_deep[cc]*100,c=df_deep[cc], vmin=0, vmax=2.5)\n",
    "    plt.colorbar(c)\n",
    "    ax.set_title(cc.split('_')[1].capitalize(), fontsize=12)\n",
    "plt.suptitle('Standard Deviation of Deep Residuals', fontsize=14)\n",
    "    "
   ]
  },
  {
   "cell_type": "markdown",
   "id": "01664344",
   "metadata": {},
   "source": [
    "# Visualize a single set of fields"
   ]
  },
  {
   "cell_type": "code",
   "execution_count": null,
   "id": "82ac835e",
   "metadata": {},
   "outputs": [],
   "source": [
    "tmpdir = Path('../scratch')\n",
    "if tmpdir.exists():\n",
    "    shutil.rmtree(tmpdir)\n",
    "shutil.copytree(ies_dir, tmpdir)"
   ]
  },
  {
   "cell_type": "code",
   "execution_count": null,
   "id": "561f162b",
   "metadata": {},
   "outputs": [],
   "source": [
    "pst = pyemu.Pst(str(tmpdir / 'mv.ies.pst'))"
   ]
  },
  {
   "cell_type": "code",
   "execution_count": null,
   "id": "0c87f231",
   "metadata": {},
   "outputs": [],
   "source": [
    "pars = pd.read_csv(ies_dir / 'mv.ies.3.par.csv', index_col=0)\n",
    "pars"
   ]
  },
  {
   "cell_type": "code",
   "execution_count": null,
   "id": "df64b042",
   "metadata": {},
   "outputs": [],
   "source": [
    "pst.control_data.noptmax=0"
   ]
  },
  {
   "cell_type": "markdown",
   "id": "925261d5",
   "metadata": {},
   "source": [
    "## good to check out the base realization, but could choose another"
   ]
  },
  {
   "cell_type": "code",
   "execution_count": null,
   "id": "3218e4d4",
   "metadata": {},
   "outputs": [],
   "source": [
    "real_to_plot = 'base'"
   ]
  },
  {
   "cell_type": "code",
   "execution_count": null,
   "id": "e405bd96",
   "metadata": {},
   "outputs": [],
   "source": [
    "pst.parameter_data.loc[pars.loc[real_to_plot].index, 'parval1'] = pars.loc[real_to_plot]"
   ]
  },
  {
   "cell_type": "code",
   "execution_count": null,
   "id": "d14933d0",
   "metadata": {},
   "outputs": [],
   "source": [
    "pst.write(str(tmpdir / 'testrun.pst'), version=2)"
   ]
  },
  {
   "cell_type": "code",
   "execution_count": null,
   "id": "28666175",
   "metadata": {},
   "outputs": [],
   "source": [
    "pyemu.os_utils.run('pestpp-ies testrun.pst', str(tmpdir))"
   ]
  },
  {
   "cell_type": "code",
   "execution_count": null,
   "id": "26c2c9b3-c237-4459-a61a-a85dfe6bd438",
   "metadata": {},
   "outputs": [],
   "source": [
    "idom = m.dis.idomain.array[2]"
   ]
  },
  {
   "cell_type": "markdown",
   "id": "6fc9064c",
   "metadata": {},
   "source": [
    "## viz the k fields and other parameters"
   ]
  },
  {
   "cell_type": "code",
   "execution_count": null,
   "id": "ccdd6467",
   "metadata": {},
   "outputs": [],
   "source": [
    "fig,ax = plt.subplots(2,2,figsize=(10,10))\n",
    "for cax, carr, ctitle in zip(ax.ravel(), [np.loadtxt(tmpdir / 'k_aq.ref'), m.npf.k.data[1],\n",
    "                          np.loadtxt(tmpdir / 'k_clay.ref'), m.npf.k.data[2]],\n",
    "                         ['Estimated Aquifer K','REF Aquifer K','Estimated Clay K','REF Clay K']):\n",
    "    cax.set_aspect('equal')\n",
    "    pmv = fp.plot.PlotMapView(m, ax=cax)\n",
    "    lc = pmv.plot_grid(lw=0.5)\n",
    "    if 'clay' in ctitle.lower():\n",
    "        carr[idom<0]=np.nan\n",
    "    c = pmv.plot_array(carr)\n",
    "    plt.colorbar(c)\n",
    "    cax.set_title(ctitle)"
   ]
  },
  {
   "cell_type": "markdown",
   "id": "42d7a653-028c-4438-b942-5193a07ef2d1",
   "metadata": {},
   "source": [
    "![ktrue](./k_true.png)"
   ]
  },
  {
   "cell_type": "code",
   "execution_count": null,
   "id": "aa75af63",
   "metadata": {},
   "outputs": [],
   "source": [
    "pars.kaniso.hist(bins=50)\n",
    "plt.title('Anisotropy: aquifer');"
   ]
  },
  {
   "cell_type": "code",
   "execution_count": null,
   "id": "29a311c6",
   "metadata": {},
   "outputs": [],
   "source": [
    "pars.kaniso_clay.hist(bins=50)\n",
    "plt.title('Anisotropy: clay layer');"
   ]
  },
  {
   "cell_type": "code",
   "execution_count": null,
   "id": "071d253b",
   "metadata": {},
   "outputs": [],
   "source": [
    "pars.rch.hist(bins=50)\n",
    "plt.title('Recharge');"
   ]
  },
  {
   "cell_type": "code",
   "execution_count": null,
   "id": "a5236e95-9576-495c-ba01-69150f5d10e5",
   "metadata": {},
   "outputs": [],
   "source": [
    "mfinal = fp.mf6.MFSimulation.load(sim_ws = str(tmpdir)).get_model()\n",
    "h = mfinal.output.head().get_data()"
   ]
  },
  {
   "cell_type": "code",
   "execution_count": null,
   "id": "60044a22-498d-4cfb-87f8-6a7706732099",
   "metadata": {},
   "outputs": [],
   "source": [
    "fig,ax = plt.subplots(1,5, figsize=(8,4))\n",
    "for i,cax  in zip([0,1,2,3,4],ax):\n",
    "    pmv = fp.plot.PlotMapView(mfinal, ax=cax)\n",
    "    pmv.plot_grid(lw=0.5)\n",
    "    pmv.plot_array(h[i])\n",
    "    cax.set_title(f'head in layer {i+1}')"
   ]
  },
  {
   "cell_type": "code",
   "execution_count": null,
   "id": "73f88ffe-df17-47ef-9bdf-c508bd0aaf28",
   "metadata": {},
   "outputs": [],
   "source": []
  },
  {
   "cell_type": "code",
   "execution_count": null,
   "id": "c372006e-28de-490d-ae86-b194cf756629",
   "metadata": {},
   "outputs": [],
   "source": []
  }
 ],
 "metadata": {
  "kernelspec": {
   "display_name": "Python 3 (ipykernel)",
   "language": "python",
   "name": "python3"
  },
  "language_info": {
   "codemirror_mode": {
    "name": "ipython",
    "version": 3
   },
   "file_extension": ".py",
   "mimetype": "text/x-python",
   "name": "python",
   "nbconvert_exporter": "python",
   "pygments_lexer": "ipython3",
   "version": "3.11.5"
  }
 },
 "nbformat": 4,
 "nbformat_minor": 5
}
